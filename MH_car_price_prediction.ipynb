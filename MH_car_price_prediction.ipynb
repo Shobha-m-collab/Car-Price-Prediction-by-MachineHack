{
 "cells": [
  {
   "cell_type": "markdown",
   "metadata": {},
   "source": [
    "# Problem Statement:"
   ]
  },
  {
   "cell_type": "markdown",
   "metadata": {},
   "source": [
    "This is a hackathon published on https://machinehack.com/hackathons/data_hack_mathcothon_car_price_prediction_challenge/overview , organised by Math.co company.\n",
    "The hackathon named as *Math.co Car Prediction Prediction Challenge* is a machine learning(ML) problem where we have to estimate price for various cars with best features."
   ]
  },
  {
   "cell_type": "markdown",
   "metadata": {},
   "source": [
    "- Type of the ML problem: It's a regression problem, since the target variable is continuous in nature.\n",
    "- Key performance metric(KPI): Root Mean Square Log Error(RMSLE)"
   ]
  },
  {
   "cell_type": "markdown",
   "metadata": {},
   "source": [
    "# 1. Loading and Reading the data"
   ]
  },
  {
   "cell_type": "code",
   "execution_count": 2,
   "metadata": {},
   "outputs": [
    {
     "name": "stderr",
     "output_type": "stream",
     "text": [
      "C:\\Users\\Princy\\Anaconda3\\lib\\site-packages\\numpy\\_distributor_init.py:32: UserWarning: loaded more than 1 DLL from .libs:\n",
      "C:\\Users\\Princy\\Anaconda3\\lib\\site-packages\\numpy\\.libs\\libopenblas.NOIJJG62EMASZI6NYURL6JBKM4EVBGM7.gfortran-win_amd64.dll\n",
      "C:\\Users\\Princy\\Anaconda3\\lib\\site-packages\\numpy\\.libs\\libopenblas.WCDJNK7YVMPZQ2ME2ZZHJJRJ3JIKNDB7.gfortran-win_amd64.dll\n",
      "  stacklevel=1)\n"
     ]
    }
   ],
   "source": [
    "#import libarries\n",
    "import pandas as pd\n",
    "import numpy as np\n",
    "import seaborn as sns\n",
    "import matplotlib.pyplot as plt\n",
    "import re\n",
    "\n",
    "%matplotlib inline\n",
    "\n",
    "import warnings\n",
    "warnings.filterwarnings(\"ignore\")\n",
    "\n",
    "\n",
    "from sklearn.feature_extraction.text import CountVectorizer\n",
    "from sklearn.preprocessing import LabelEncoder\n",
    "from sklearn.model_selection import train_test_split\n",
    "from sklearn.preprocessing import Normalizer\n",
    "from sklearn import metrics"
   ]
  },
  {
   "cell_type": "code",
   "execution_count": 3,
   "metadata": {},
   "outputs": [],
   "source": [
    "data=pd.read_csv(r\"C:\\Users\\Princy\\Downloads\\MH_car_prediction_challenge\\train.csv\")\n",
    "test_data=pd.read_csv(r\"C:\\Users\\Princy\\Downloads\\MH_car_prediction_challenge\\Test.csv\")\n",
    "sub=pd.read_csv(r\"C:\\Users\\Princy\\Downloads\\MH_car_prediction_challenge\\submission.csv\")"
   ]
  },
  {
   "cell_type": "code",
   "execution_count": 4,
   "metadata": {},
   "outputs": [
    {
     "data": {
      "text/html": [
       "<div>\n",
       "<style scoped>\n",
       "    .dataframe tbody tr th:only-of-type {\n",
       "        vertical-align: middle;\n",
       "    }\n",
       "\n",
       "    .dataframe tbody tr th {\n",
       "        vertical-align: top;\n",
       "    }\n",
       "\n",
       "    .dataframe thead th {\n",
       "        text-align: right;\n",
       "    }\n",
       "</style>\n",
       "<table border=\"1\" class=\"dataframe\">\n",
       "  <thead>\n",
       "    <tr style=\"text-align: right;\">\n",
       "      <th></th>\n",
       "      <th>ID</th>\n",
       "      <th>Price</th>\n",
       "      <th>Levy</th>\n",
       "      <th>Manufacturer</th>\n",
       "      <th>Model</th>\n",
       "      <th>Prod. year</th>\n",
       "      <th>Category</th>\n",
       "      <th>Leather interior</th>\n",
       "      <th>Fuel type</th>\n",
       "      <th>Engine volume</th>\n",
       "      <th>Mileage</th>\n",
       "      <th>Cylinders</th>\n",
       "      <th>Gear box type</th>\n",
       "      <th>Drive wheels</th>\n",
       "      <th>Doors</th>\n",
       "      <th>Wheel</th>\n",
       "      <th>Color</th>\n",
       "      <th>Airbags</th>\n",
       "    </tr>\n",
       "  </thead>\n",
       "  <tbody>\n",
       "    <tr>\n",
       "      <th>0</th>\n",
       "      <td>45654403</td>\n",
       "      <td>13328</td>\n",
       "      <td>1399</td>\n",
       "      <td>LEXUS</td>\n",
       "      <td>RX 450</td>\n",
       "      <td>2010</td>\n",
       "      <td>Jeep</td>\n",
       "      <td>Yes</td>\n",
       "      <td>Hybrid</td>\n",
       "      <td>3.5</td>\n",
       "      <td>186005 km</td>\n",
       "      <td>6.0</td>\n",
       "      <td>Automatic</td>\n",
       "      <td>4x4</td>\n",
       "      <td>04-May</td>\n",
       "      <td>Left wheel</td>\n",
       "      <td>Silver</td>\n",
       "      <td>12</td>\n",
       "    </tr>\n",
       "    <tr>\n",
       "      <th>1</th>\n",
       "      <td>44731507</td>\n",
       "      <td>16621</td>\n",
       "      <td>1018</td>\n",
       "      <td>CHEVROLET</td>\n",
       "      <td>Equinox</td>\n",
       "      <td>2011</td>\n",
       "      <td>Jeep</td>\n",
       "      <td>No</td>\n",
       "      <td>Petrol</td>\n",
       "      <td>3</td>\n",
       "      <td>192000 km</td>\n",
       "      <td>6.0</td>\n",
       "      <td>Tiptronic</td>\n",
       "      <td>4x4</td>\n",
       "      <td>04-May</td>\n",
       "      <td>Left wheel</td>\n",
       "      <td>Black</td>\n",
       "      <td>8</td>\n",
       "    </tr>\n",
       "    <tr>\n",
       "      <th>2</th>\n",
       "      <td>45774419</td>\n",
       "      <td>8467</td>\n",
       "      <td>-</td>\n",
       "      <td>HONDA</td>\n",
       "      <td>FIT</td>\n",
       "      <td>2006</td>\n",
       "      <td>Hatchback</td>\n",
       "      <td>No</td>\n",
       "      <td>Petrol</td>\n",
       "      <td>1.3</td>\n",
       "      <td>200000 km</td>\n",
       "      <td>4.0</td>\n",
       "      <td>Variator</td>\n",
       "      <td>Front</td>\n",
       "      <td>04-May</td>\n",
       "      <td>Right-hand drive</td>\n",
       "      <td>Black</td>\n",
       "      <td>2</td>\n",
       "    </tr>\n",
       "    <tr>\n",
       "      <th>3</th>\n",
       "      <td>45769185</td>\n",
       "      <td>3607</td>\n",
       "      <td>862</td>\n",
       "      <td>FORD</td>\n",
       "      <td>Escape</td>\n",
       "      <td>2011</td>\n",
       "      <td>Jeep</td>\n",
       "      <td>Yes</td>\n",
       "      <td>Hybrid</td>\n",
       "      <td>2.5</td>\n",
       "      <td>168966 km</td>\n",
       "      <td>4.0</td>\n",
       "      <td>Automatic</td>\n",
       "      <td>4x4</td>\n",
       "      <td>04-May</td>\n",
       "      <td>Left wheel</td>\n",
       "      <td>White</td>\n",
       "      <td>0</td>\n",
       "    </tr>\n",
       "    <tr>\n",
       "      <th>4</th>\n",
       "      <td>45809263</td>\n",
       "      <td>11726</td>\n",
       "      <td>446</td>\n",
       "      <td>HONDA</td>\n",
       "      <td>FIT</td>\n",
       "      <td>2014</td>\n",
       "      <td>Hatchback</td>\n",
       "      <td>Yes</td>\n",
       "      <td>Petrol</td>\n",
       "      <td>1.3</td>\n",
       "      <td>91901 km</td>\n",
       "      <td>4.0</td>\n",
       "      <td>Automatic</td>\n",
       "      <td>Front</td>\n",
       "      <td>04-May</td>\n",
       "      <td>Left wheel</td>\n",
       "      <td>Silver</td>\n",
       "      <td>4</td>\n",
       "    </tr>\n",
       "  </tbody>\n",
       "</table>\n",
       "</div>"
      ],
      "text/plain": [
       "         ID  Price  Levy Manufacturer    Model  Prod. year   Category  \\\n",
       "0  45654403  13328  1399        LEXUS   RX 450        2010       Jeep   \n",
       "1  44731507  16621  1018    CHEVROLET  Equinox        2011       Jeep   \n",
       "2  45774419   8467     -        HONDA      FIT        2006  Hatchback   \n",
       "3  45769185   3607   862         FORD   Escape        2011       Jeep   \n",
       "4  45809263  11726   446        HONDA      FIT        2014  Hatchback   \n",
       "\n",
       "  Leather interior Fuel type Engine volume    Mileage  Cylinders  \\\n",
       "0              Yes    Hybrid           3.5  186005 km        6.0   \n",
       "1               No    Petrol             3  192000 km        6.0   \n",
       "2               No    Petrol           1.3  200000 km        4.0   \n",
       "3              Yes    Hybrid           2.5  168966 km        4.0   \n",
       "4              Yes    Petrol           1.3   91901 km        4.0   \n",
       "\n",
       "  Gear box type Drive wheels   Doors             Wheel   Color  Airbags  \n",
       "0     Automatic          4x4  04-May        Left wheel  Silver       12  \n",
       "1     Tiptronic          4x4  04-May        Left wheel   Black        8  \n",
       "2      Variator        Front  04-May  Right-hand drive   Black        2  \n",
       "3     Automatic          4x4  04-May        Left wheel   White        0  \n",
       "4     Automatic        Front  04-May        Left wheel  Silver        4  "
      ]
     },
     "execution_count": 4,
     "metadata": {},
     "output_type": "execute_result"
    }
   ],
   "source": [
    "#read few lines of the data\n",
    "data.head()"
   ]
  },
  {
   "cell_type": "code",
   "execution_count": 5,
   "metadata": {},
   "outputs": [
    {
     "data": {
      "text/html": [
       "<div>\n",
       "<style scoped>\n",
       "    .dataframe tbody tr th:only-of-type {\n",
       "        vertical-align: middle;\n",
       "    }\n",
       "\n",
       "    .dataframe tbody tr th {\n",
       "        vertical-align: top;\n",
       "    }\n",
       "\n",
       "    .dataframe thead th {\n",
       "        text-align: right;\n",
       "    }\n",
       "</style>\n",
       "<table border=\"1\" class=\"dataframe\">\n",
       "  <thead>\n",
       "    <tr style=\"text-align: right;\">\n",
       "      <th></th>\n",
       "      <th>ID</th>\n",
       "      <th>Levy</th>\n",
       "      <th>Manufacturer</th>\n",
       "      <th>Model</th>\n",
       "      <th>Prod. year</th>\n",
       "      <th>Category</th>\n",
       "      <th>Leather interior</th>\n",
       "      <th>Fuel type</th>\n",
       "      <th>Engine volume</th>\n",
       "      <th>Mileage</th>\n",
       "      <th>Cylinders</th>\n",
       "      <th>Gear box type</th>\n",
       "      <th>Drive wheels</th>\n",
       "      <th>Doors</th>\n",
       "      <th>Wheel</th>\n",
       "      <th>Color</th>\n",
       "      <th>Airbags</th>\n",
       "      <th>Price</th>\n",
       "    </tr>\n",
       "  </thead>\n",
       "  <tbody>\n",
       "    <tr>\n",
       "      <th>0</th>\n",
       "      <td>44020629</td>\n",
       "      <td>-</td>\n",
       "      <td>VOLKSWAGEN</td>\n",
       "      <td>Golf</td>\n",
       "      <td>2012</td>\n",
       "      <td>Hatchback</td>\n",
       "      <td>No</td>\n",
       "      <td>Diesel</td>\n",
       "      <td>2.0 Turbo</td>\n",
       "      <td>0 km</td>\n",
       "      <td>4</td>\n",
       "      <td>Manual</td>\n",
       "      <td>Front</td>\n",
       "      <td>02-Mar</td>\n",
       "      <td>Left wheel</td>\n",
       "      <td>Grey</td>\n",
       "      <td>10</td>\n",
       "      <td>NaN</td>\n",
       "    </tr>\n",
       "    <tr>\n",
       "      <th>1</th>\n",
       "      <td>45784798</td>\n",
       "      <td>-</td>\n",
       "      <td>HYUNDAI</td>\n",
       "      <td>Sonata</td>\n",
       "      <td>2012</td>\n",
       "      <td>Sedan</td>\n",
       "      <td>Yes</td>\n",
       "      <td>Petrol</td>\n",
       "      <td>2.4</td>\n",
       "      <td>26000 km</td>\n",
       "      <td>4</td>\n",
       "      <td>Tiptronic</td>\n",
       "      <td>Front</td>\n",
       "      <td>04-May</td>\n",
       "      <td>Left wheel</td>\n",
       "      <td>Grey</td>\n",
       "      <td>10</td>\n",
       "      <td>NaN</td>\n",
       "    </tr>\n",
       "    <tr>\n",
       "      <th>2</th>\n",
       "      <td>45800257</td>\n",
       "      <td>-</td>\n",
       "      <td>NISSAN</td>\n",
       "      <td>Tiida</td>\n",
       "      <td>2005</td>\n",
       "      <td>Sedan</td>\n",
       "      <td>No</td>\n",
       "      <td>Petrol</td>\n",
       "      <td>1.5</td>\n",
       "      <td>168000 km</td>\n",
       "      <td>4</td>\n",
       "      <td>Automatic</td>\n",
       "      <td>Front</td>\n",
       "      <td>04-May</td>\n",
       "      <td>Right-hand drive</td>\n",
       "      <td>Sky blue</td>\n",
       "      <td>8</td>\n",
       "      <td>NaN</td>\n",
       "    </tr>\n",
       "    <tr>\n",
       "      <th>3</th>\n",
       "      <td>45797981</td>\n",
       "      <td>975</td>\n",
       "      <td>VOLVO</td>\n",
       "      <td>XC90</td>\n",
       "      <td>2012</td>\n",
       "      <td>Jeep</td>\n",
       "      <td>Yes</td>\n",
       "      <td>Petrol</td>\n",
       "      <td>3.2</td>\n",
       "      <td>143000 km</td>\n",
       "      <td>6</td>\n",
       "      <td>Automatic</td>\n",
       "      <td>4x4</td>\n",
       "      <td>04-May</td>\n",
       "      <td>Left wheel</td>\n",
       "      <td>Blue</td>\n",
       "      <td>12</td>\n",
       "      <td>NaN</td>\n",
       "    </tr>\n",
       "  </tbody>\n",
       "</table>\n",
       "</div>"
      ],
      "text/plain": [
       "         ID Levy Manufacturer   Model  Prod. year   Category Leather interior  \\\n",
       "0  44020629    -   VOLKSWAGEN    Golf        2012  Hatchback               No   \n",
       "1  45784798    -      HYUNDAI  Sonata        2012      Sedan              Yes   \n",
       "2  45800257    -       NISSAN   Tiida        2005      Sedan               No   \n",
       "3  45797981  975        VOLVO    XC90        2012       Jeep              Yes   \n",
       "\n",
       "  Fuel type Engine volume    Mileage  Cylinders Gear box type Drive wheels  \\\n",
       "0    Diesel     2.0 Turbo       0 km          4        Manual        Front   \n",
       "1    Petrol           2.4   26000 km          4     Tiptronic        Front   \n",
       "2    Petrol           1.5  168000 km          4     Automatic        Front   \n",
       "3    Petrol           3.2  143000 km          6     Automatic          4x4   \n",
       "\n",
       "    Doors             Wheel     Color  Airbags  Price  \n",
       "0  02-Mar        Left wheel      Grey       10    NaN  \n",
       "1  04-May        Left wheel      Grey       10    NaN  \n",
       "2  04-May  Right-hand drive  Sky blue        8    NaN  \n",
       "3  04-May        Left wheel      Blue       12    NaN  "
      ]
     },
     "execution_count": 5,
     "metadata": {},
     "output_type": "execute_result"
    }
   ],
   "source": [
    "test_data.head(4)"
   ]
  },
  {
   "cell_type": "code",
   "execution_count": 5,
   "metadata": {},
   "outputs": [
    {
     "name": "stdout",
     "output_type": "stream",
     "text": [
      "<class 'pandas.core.frame.DataFrame'>\n",
      "RangeIndex: 19237 entries, 0 to 19236\n",
      "Data columns (total 18 columns):\n",
      " #   Column            Non-Null Count  Dtype  \n",
      "---  ------            --------------  -----  \n",
      " 0   ID                19237 non-null  int64  \n",
      " 1   Price             19237 non-null  int64  \n",
      " 2   Levy              19237 non-null  object \n",
      " 3   Manufacturer      19237 non-null  object \n",
      " 4   Model             19237 non-null  object \n",
      " 5   Prod. year        19237 non-null  int64  \n",
      " 6   Category          19237 non-null  object \n",
      " 7   Leather interior  19237 non-null  object \n",
      " 8   Fuel type         19237 non-null  object \n",
      " 9   Engine volume     19237 non-null  object \n",
      " 10  Mileage           19237 non-null  object \n",
      " 11  Cylinders         19237 non-null  float64\n",
      " 12  Gear box type     19237 non-null  object \n",
      " 13  Drive wheels      19237 non-null  object \n",
      " 14  Doors             19237 non-null  object \n",
      " 15  Wheel             19237 non-null  object \n",
      " 16  Color             19237 non-null  object \n",
      " 17  Airbags           19237 non-null  int64  \n",
      "dtypes: float64(1), int64(4), object(13)\n",
      "memory usage: 2.6+ MB\n"
     ]
    }
   ],
   "source": [
    "#basic information about the data\n",
    "data.info()"
   ]
  },
  {
   "cell_type": "code",
   "execution_count": 6,
   "metadata": {},
   "outputs": [
    {
     "name": "stdout",
     "output_type": "stream",
     "text": [
      "<class 'pandas.core.frame.DataFrame'>\n",
      "RangeIndex: 8245 entries, 0 to 8244\n",
      "Data columns (total 18 columns):\n",
      " #   Column            Non-Null Count  Dtype  \n",
      "---  ------            --------------  -----  \n",
      " 0   ID                8245 non-null   int64  \n",
      " 1   Levy              8245 non-null   object \n",
      " 2   Manufacturer      8245 non-null   object \n",
      " 3   Model             8245 non-null   object \n",
      " 4   Prod. year        8245 non-null   int64  \n",
      " 5   Category          8245 non-null   object \n",
      " 6   Leather interior  8245 non-null   object \n",
      " 7   Fuel type         8245 non-null   object \n",
      " 8   Engine volume     8245 non-null   object \n",
      " 9   Mileage           8245 non-null   object \n",
      " 10  Cylinders         8245 non-null   int64  \n",
      " 11  Gear box type     8245 non-null   object \n",
      " 12  Drive wheels      8245 non-null   object \n",
      " 13  Doors             8245 non-null   object \n",
      " 14  Wheel             8245 non-null   object \n",
      " 15  Color             8245 non-null   object \n",
      " 16  Airbags           8245 non-null   int64  \n",
      " 17  Price             0 non-null      float64\n",
      "dtypes: float64(1), int64(4), object(13)\n",
      "memory usage: 1.1+ MB\n"
     ]
    }
   ],
   "source": [
    "test_data.info()"
   ]
  },
  {
   "cell_type": "markdown",
   "metadata": {},
   "source": [
    "# 2. Data Cleaning and EDA"
   ]
  },
  {
   "cell_type": "code",
   "execution_count": 7,
   "metadata": {},
   "outputs": [],
   "source": [
    "#Drop Price column from test data\n",
    "test_data=test_data.drop('Price', axis=1)"
   ]
  },
  {
   "cell_type": "markdown",
   "metadata": {},
   "source": [
    "## 2.1 Delete duplicate rows"
   ]
  },
  {
   "cell_type": "code",
   "execution_count": 8,
   "metadata": {},
   "outputs": [
    {
     "name": "stdout",
     "output_type": "stream",
     "text": [
      "Number of duplicate rows in training data: 313\n",
      "Number of duplicate rows in test data: 75\n"
     ]
    }
   ],
   "source": [
    "print(\"Number of duplicate rows in training data:\", data.duplicated().sum())\n",
    "print(\"Number of duplicate rows in test data:\",test_data.duplicated().sum())"
   ]
  },
  {
   "cell_type": "code",
   "execution_count": 9,
   "metadata": {},
   "outputs": [],
   "source": [
    "#drop duplicate rows from the training dataset\n",
    "data.drop_duplicates(keep=False, inplace=True)"
   ]
  },
  {
   "cell_type": "code",
   "execution_count": 10,
   "metadata": {},
   "outputs": [
    {
     "data": {
      "text/plain": [
       "(18704, 18)"
      ]
     },
     "execution_count": 10,
     "metadata": {},
     "output_type": "execute_result"
    }
   ],
   "source": [
    "data.shape"
   ]
  },
  {
   "cell_type": "markdown",
   "metadata": {},
   "source": [
    "## 2.2 Number of unique values in each column"
   ]
  },
  {
   "cell_type": "code",
   "execution_count": 11,
   "metadata": {},
   "outputs": [
    {
     "data": {
      "text/plain": [
       "ID                  18704\n",
       "Price                2300\n",
       "Levy                  559\n",
       "Manufacturer           65\n",
       "Model                1579\n",
       "Prod. year             53\n",
       "Category               11\n",
       "Leather interior        2\n",
       "Fuel type               7\n",
       "Engine volume         107\n",
       "Mileage              7586\n",
       "Cylinders              13\n",
       "Gear box type           4\n",
       "Drive wheels            3\n",
       "Doors                   3\n",
       "Wheel                   2\n",
       "Color                  16\n",
       "Airbags                17\n",
       "dtype: int64"
      ]
     },
     "execution_count": 11,
     "metadata": {},
     "output_type": "execute_result"
    }
   ],
   "source": [
    "#Number of unique values in each column of the training data\n",
    "data.nunique()"
   ]
  },
  {
   "cell_type": "code",
   "execution_count": 12,
   "metadata": {},
   "outputs": [
    {
     "data": {
      "text/plain": [
       "ID                  8170\n",
       "Levy                 434\n",
       "Manufacturer          62\n",
       "Model                995\n",
       "Prod. year            45\n",
       "Category              11\n",
       "Leather interior       2\n",
       "Fuel type              7\n",
       "Engine volume         97\n",
       "Mileage             3978\n",
       "Cylinders             14\n",
       "Gear box type          4\n",
       "Drive wheels           3\n",
       "Doors                  3\n",
       "Wheel                  2\n",
       "Color                 16\n",
       "Airbags               17\n",
       "dtype: int64"
      ]
     },
     "execution_count": 12,
     "metadata": {},
     "output_type": "execute_result"
    }
   ],
   "source": [
    "#Number of unique values in each column of the test data\n",
    "test_data.nunique()"
   ]
  },
  {
   "cell_type": "markdown",
   "metadata": {},
   "source": [
    "## 2.2 Dealing with null values"
   ]
  },
  {
   "cell_type": "code",
   "execution_count": 11,
   "metadata": {},
   "outputs": [
    {
     "name": "stdout",
     "output_type": "stream",
     "text": [
      "Number of null value present in train data= 0\n",
      "Number of null value present in test data= 0\n"
     ]
    }
   ],
   "source": [
    "print(\"Number of null value present in train data=\", data.isna().sum().sum())\n",
    "print(\"Number of null value present in test data=\", test_data.isna().sum().sum())"
   ]
  },
  {
   "cell_type": "markdown",
   "metadata": {},
   "source": [
    "- Although it's showing that no null value present in both the datasets but if we look closely we can find that there are blank(\"-\") values present in the \"levy\" column. So we have to replace them with significant numbers."
   ]
  },
  {
   "cell_type": "code",
   "execution_count": 12,
   "metadata": {},
   "outputs": [
    {
     "data": {
      "text/plain": [
       "0.3021278870829769"
      ]
     },
     "execution_count": 12,
     "metadata": {},
     "output_type": "execute_result"
    }
   ],
   "source": [
    "#Check % of '-' in Levy which are actually null values\n",
    "data.loc[data['Levy']=='-'].shape[0]/data.shape[0]"
   ]
  },
  {
   "cell_type": "code",
   "execution_count": 13,
   "metadata": {},
   "outputs": [
    {
     "data": {
      "text/plain": [
       "0.2976349302607641"
      ]
     },
     "execution_count": 13,
     "metadata": {},
     "output_type": "execute_result"
    }
   ],
   "source": [
    "test_data.loc[test_data['Levy']=='-'].shape[0]/test_data.shape[0]"
   ]
  },
  {
   "cell_type": "markdown",
   "metadata": {},
   "source": [
    "- So there are around 30% null values present in both the datasets."
   ]
  },
  {
   "cell_type": "code",
   "execution_count": 14,
   "metadata": {},
   "outputs": [],
   "source": [
    "#Extract numbers from the column and then replace them\n",
    "data = data.assign(Levy = lambda x: x['Levy'].str.extract('(\\d+)'))\n",
    "test_data = test_data.assign(Levy = lambda x: x['Levy'].str.extract('(\\d+)'))"
   ]
  },
  {
   "cell_type": "code",
   "execution_count": 15,
   "metadata": {},
   "outputs": [],
   "source": [
    "#Change str to float\n",
    "data['Levy']=(data['Levy']).astype(np.float)\n",
    "test_data['Levy']=test_data['Levy'].astype(np.float)"
   ]
  },
  {
   "cell_type": "code",
   "execution_count": 16,
   "metadata": {},
   "outputs": [],
   "source": [
    "#Fill the missing values with mean\n",
    "data['Levy']= data['Levy'].fillna(data['Levy'].mean())\n",
    "test_data['Levy']=test_data['Levy'].fillna(data['Levy'].mean())"
   ]
  },
  {
   "cell_type": "code",
   "execution_count": 17,
   "metadata": {},
   "outputs": [
    {
     "name": "stdout",
     "output_type": "stream",
     "text": [
      "0.0\n",
      "0.0\n"
     ]
    }
   ],
   "source": [
    "#Check % of '-' in Levy after replacement\n",
    "print(data.loc[data['Levy']=='-'].shape[0]/data.shape[0])\n",
    "print(test_data.loc[test_data['Levy']=='-'].shape[0]/data.shape[0])"
   ]
  },
  {
   "cell_type": "markdown",
   "metadata": {},
   "source": [
    "- So we can see that no null value left."
   ]
  },
  {
   "cell_type": "markdown",
   "metadata": {},
   "source": [
    "## 2.3 Removing the outliers"
   ]
  },
  {
   "cell_type": "markdown",
   "metadata": {},
   "source": [
    "### 2.3.1 Remove outliers with the help of dependent variable"
   ]
  },
  {
   "cell_type": "code",
   "execution_count": 18,
   "metadata": {},
   "outputs": [
    {
     "data": {
      "text/plain": [
       "<matplotlib.axes._subplots.AxesSubplot at 0x2973dd74d68>"
      ]
     },
     "execution_count": 18,
     "metadata": {},
     "output_type": "execute_result"
    },
    {
     "data": {
      "image/png": "[encoded data removed]",
      "text/plain": [
       "<Figure size 576x360 with 1 Axes>"
      ]
     },
     "metadata": {},
     "output_type": "display_data"
    }
   ],
   "source": [
    "plt.figure(figsize=(8,5))\n",
    "sns.boxplot(x='Price',data=data)"
   ]
  },
  {
   "cell_type": "code",
   "execution_count": 19,
   "metadata": {},
   "outputs": [
    {
     "data": {
      "text/html": [
       "<div>\n",
       "<style scoped>\n",
       "    .dataframe tbody tr th:only-of-type {\n",
       "        vertical-align: middle;\n",
       "    }\n",
       "\n",
       "    .dataframe tbody tr th {\n",
       "        vertical-align: top;\n",
       "    }\n",
       "\n",
       "    .dataframe thead th {\n",
       "        text-align: right;\n",
       "    }\n",
       "</style>\n",
       "<table border=\"1\" class=\"dataframe\">\n",
       "  <thead>\n",
       "    <tr style=\"text-align: right;\">\n",
       "      <th></th>\n",
       "      <th>ID</th>\n",
       "      <th>Price</th>\n",
       "      <th>Levy</th>\n",
       "      <th>Manufacturer</th>\n",
       "      <th>Model</th>\n",
       "      <th>Prod. year</th>\n",
       "      <th>Category</th>\n",
       "      <th>Leather interior</th>\n",
       "      <th>Fuel type</th>\n",
       "      <th>Engine volume</th>\n",
       "      <th>Mileage</th>\n",
       "      <th>Cylinders</th>\n",
       "      <th>Gear box type</th>\n",
       "      <th>Drive wheels</th>\n",
       "      <th>Doors</th>\n",
       "      <th>Wheel</th>\n",
       "      <th>Color</th>\n",
       "      <th>Airbags</th>\n",
       "    </tr>\n",
       "  </thead>\n",
       "  <tbody>\n",
       "    <tr>\n",
       "      <th>16983</th>\n",
       "      <td>45812886</td>\n",
       "      <td>26307500</td>\n",
       "      <td>906.247683</td>\n",
       "      <td>OPEL</td>\n",
       "      <td>Combo</td>\n",
       "      <td>1999</td>\n",
       "      <td>Goods wagon</td>\n",
       "      <td>No</td>\n",
       "      <td>Diesel</td>\n",
       "      <td>1.7</td>\n",
       "      <td>99999 km</td>\n",
       "      <td>4.0</td>\n",
       "      <td>Manual</td>\n",
       "      <td>Front</td>\n",
       "      <td>02-Mar</td>\n",
       "      <td>Left wheel</td>\n",
       "      <td>Blue</td>\n",
       "      <td>0</td>\n",
       "    </tr>\n",
       "  </tbody>\n",
       "</table>\n",
       "</div>"
      ],
      "text/plain": [
       "             ID     Price        Levy Manufacturer  Model  Prod. year  \\\n",
       "16983  45812886  26307500  906.247683         OPEL  Combo        1999   \n",
       "\n",
       "          Category Leather interior Fuel type Engine volume   Mileage  \\\n",
       "16983  Goods wagon               No    Diesel           1.7  99999 km   \n",
       "\n",
       "       Cylinders Gear box type Drive wheels   Doors       Wheel Color  Airbags  \n",
       "16983        4.0        Manual        Front  02-Mar  Left wheel  Blue        0  "
      ]
     },
     "execution_count": 19,
     "metadata": {},
     "output_type": "execute_result"
    }
   ],
   "source": [
    "#Check where Price is more than 25000000\n",
    "data.loc[data['Price']>=25000000]"
   ]
  },
  {
   "cell_type": "markdown",
   "metadata": {},
   "source": [
    "- As this Price is too high and not comparable with other values(from the boxplot) we can consider it as an outlier."
   ]
  },
  {
   "cell_type": "code",
   "execution_count": 20,
   "metadata": {},
   "outputs": [],
   "source": [
    "#Remove the outlier, using 'Price' data\n",
    "data=data.loc[data['Price']<25000000]"
   ]
  },
  {
   "cell_type": "markdown",
   "metadata": {},
   "source": [
    "### 2.3.2 Check for outliers with the help of numerical-independent variables"
   ]
  },
  {
   "cell_type": "code",
   "execution_count": 21,
   "metadata": {},
   "outputs": [
    {
     "data": {
      "text/plain": [
       "<matplotlib.axes._subplots.AxesSubplot at 0x29719570a20>"
      ]
     },
     "execution_count": 21,
     "metadata": {},
     "output_type": "execute_result"
    },
    {
     "data": {
      "image/png": "[encoded data removed]",
      "text/plain": [
       "<Figure size 576x360 with 1 Axes>"
      ]
     },
     "metadata": {},
     "output_type": "display_data"
    }
   ],
   "source": [
    "plt.figure(figsize=(8,5))\n",
    "sns.boxplot(x='Levy', data=data)"
   ]
  },
  {
   "cell_type": "code",
   "execution_count": 22,
   "metadata": {},
   "outputs": [
    {
     "data": {
      "text/html": [
       "<div>\n",
       "<style scoped>\n",
       "    .dataframe tbody tr th:only-of-type {\n",
       "        vertical-align: middle;\n",
       "    }\n",
       "\n",
       "    .dataframe tbody tr th {\n",
       "        vertical-align: top;\n",
       "    }\n",
       "\n",
       "    .dataframe thead th {\n",
       "        text-align: right;\n",
       "    }\n",
       "</style>\n",
       "<table border=\"1\" class=\"dataframe\">\n",
       "  <thead>\n",
       "    <tr style=\"text-align: right;\">\n",
       "      <th></th>\n",
       "      <th>ID</th>\n",
       "      <th>Price</th>\n",
       "      <th>Levy</th>\n",
       "      <th>Manufacturer</th>\n",
       "      <th>Model</th>\n",
       "      <th>Prod. year</th>\n",
       "      <th>Category</th>\n",
       "      <th>Leather interior</th>\n",
       "      <th>Fuel type</th>\n",
       "      <th>Engine volume</th>\n",
       "      <th>Mileage</th>\n",
       "      <th>Cylinders</th>\n",
       "      <th>Gear box type</th>\n",
       "      <th>Drive wheels</th>\n",
       "      <th>Doors</th>\n",
       "      <th>Wheel</th>\n",
       "      <th>Color</th>\n",
       "      <th>Airbags</th>\n",
       "    </tr>\n",
       "  </thead>\n",
       "  <tbody>\n",
       "    <tr>\n",
       "      <th>115</th>\n",
       "      <td>45534351</td>\n",
       "      <td>11917</td>\n",
       "      <td>11714.0</td>\n",
       "      <td>MERCEDES-BENZ</td>\n",
       "      <td>E 500 AMG</td>\n",
       "      <td>2003</td>\n",
       "      <td>Sedan</td>\n",
       "      <td>Yes</td>\n",
       "      <td>Petrol</td>\n",
       "      <td>5</td>\n",
       "      <td>150000 km</td>\n",
       "      <td>12.0</td>\n",
       "      <td>Tiptronic</td>\n",
       "      <td>Rear</td>\n",
       "      <td>04-May</td>\n",
       "      <td>Right-hand drive</td>\n",
       "      <td>White</td>\n",
       "      <td>12</td>\n",
       "    </tr>\n",
       "    <tr>\n",
       "      <th>18957</th>\n",
       "      <td>44674964</td>\n",
       "      <td>14740</td>\n",
       "      <td>11706.0</td>\n",
       "      <td>MERCEDES-BENZ</td>\n",
       "      <td>E 500 AVG</td>\n",
       "      <td>2005</td>\n",
       "      <td>Sedan</td>\n",
       "      <td>Yes</td>\n",
       "      <td>Petrol</td>\n",
       "      <td>5</td>\n",
       "      <td>56000 km</td>\n",
       "      <td>12.0</td>\n",
       "      <td>Tiptronic</td>\n",
       "      <td>Rear</td>\n",
       "      <td>04-May</td>\n",
       "      <td>Right-hand drive</td>\n",
       "      <td>Black</td>\n",
       "      <td>12</td>\n",
       "    </tr>\n",
       "    <tr>\n",
       "      <th>18984</th>\n",
       "      <td>45221191</td>\n",
       "      <td>11917</td>\n",
       "      <td>11714.0</td>\n",
       "      <td>MERCEDES-BENZ</td>\n",
       "      <td>E 500</td>\n",
       "      <td>2003</td>\n",
       "      <td>Sedan</td>\n",
       "      <td>Yes</td>\n",
       "      <td>Petrol</td>\n",
       "      <td>5</td>\n",
       "      <td>150000 km</td>\n",
       "      <td>12.0</td>\n",
       "      <td>Tiptronic</td>\n",
       "      <td>Rear</td>\n",
       "      <td>04-May</td>\n",
       "      <td>Right-hand drive</td>\n",
       "      <td>White</td>\n",
       "      <td>12</td>\n",
       "    </tr>\n",
       "  </tbody>\n",
       "</table>\n",
       "</div>"
      ],
      "text/plain": [
       "             ID  Price     Levy   Manufacturer      Model  Prod. year  \\\n",
       "115    45534351  11917  11714.0  MERCEDES-BENZ  E 500 AMG        2003   \n",
       "18957  44674964  14740  11706.0  MERCEDES-BENZ  E 500 AVG        2005   \n",
       "18984  45221191  11917  11714.0  MERCEDES-BENZ      E 500        2003   \n",
       "\n",
       "      Category Leather interior Fuel type Engine volume    Mileage  Cylinders  \\\n",
       "115      Sedan              Yes    Petrol             5  150000 km       12.0   \n",
       "18957    Sedan              Yes    Petrol             5   56000 km       12.0   \n",
       "18984    Sedan              Yes    Petrol             5  150000 km       12.0   \n",
       "\n",
       "      Gear box type Drive wheels   Doors             Wheel  Color  Airbags  \n",
       "115       Tiptronic         Rear  04-May  Right-hand drive  White       12  \n",
       "18957     Tiptronic         Rear  04-May  Right-hand drive  Black       12  \n",
       "18984     Tiptronic         Rear  04-May  Right-hand drive  White       12  "
      ]
     },
     "execution_count": 22,
     "metadata": {},
     "output_type": "execute_result"
    }
   ],
   "source": [
    "data.loc[data[\"Levy\"]>10000]"
   ]
  },
  {
   "cell_type": "code",
   "execution_count": 25,
   "metadata": {},
   "outputs": [
    {
     "data": {
      "text/plain": [
       "<matplotlib.axes._subplots.AxesSubplot at 0x1bfd2b165f8>"
      ]
     },
     "execution_count": 25,
     "metadata": {},
     "output_type": "execute_result"
    },
    {
     "data": {
      "image/png": "[encoded data removed]",
      "text/plain": [
       "<Figure size 576x360 with 1 Axes>"
      ]
     },
     "metadata": {},
     "output_type": "display_data"
    }
   ],
   "source": [
    "plt.figure(figsize=(8,5))\n",
    "sns.boxplot(x='Levy', data=test_data)"
   ]
  },
  {
   "cell_type": "markdown",
   "metadata": {},
   "source": [
    "- Since the test data['levy'] is close to train_data['Levy'], we are not removing any traing_Levy."
   ]
  },
  {
   "cell_type": "markdown",
   "metadata": {},
   "source": [
    "## 2.4 Deal with the irregularities present in each column"
   ]
  },
  {
   "cell_type": "code",
   "execution_count": 24,
   "metadata": {},
   "outputs": [],
   "source": [
    "#Replace space with underscore in the Model column\n",
    "data[\"Model\"]=(data[\"Model\"].str.replace(\" \",\"_\"))\n",
    "test_data[\"Model\"]=test_data[\"Model\"].str.replace(\" \",\"_\")"
   ]
  },
  {
   "cell_type": "code",
   "execution_count": 38,
   "metadata": {},
   "outputs": [],
   "source": [
    "#Replace space with underscore in the Manufacturer column\n",
    "data[\"Manufacturer\"]=(data[\"Manufacturer\"].str.replace(\" \",\"_\"))\n",
    "data[\"Manufacturer\"]=(data[\"Manufacturer\"].str.replace(\"-\",\"_\"))\n",
    "\n",
    "test_data[\"Manufacturer\"]=test_data[\"Manufacturer\"].str.replace(\" \",\"_\")\n",
    "data[\"Manufacturer\"]=(data[\"Manufacturer\"].str.replace(\"-\",\"_\"))"
   ]
  },
  {
   "cell_type": "code",
   "execution_count": 25,
   "metadata": {},
   "outputs": [],
   "source": [
    "data[\"Mileage\"]=data[\"Mileage\"].str.replace(\"km\",\" \")\n",
    "test_data[\"Mileage\"]=test_data[\"Mileage\"].str.replace(\"km\",\" \")\n",
    "data['Mileage']=data['Mileage'].astype(int)\n",
    "test_data['Mileage']=test_data['Mileage'].astype(int)"
   ]
  },
  {
   "cell_type": "code",
   "execution_count": 26,
   "metadata": {},
   "outputs": [
    {
     "name": "stdout",
     "output_type": "stream",
     "text": [
      "10th percentile value of sales is 25000.0\n",
      "20th percentile value of sales is 56765.0\n",
      "30th percentile value of sales is 82471.99999999996\n",
      "40th percentile value of sales is 106290.4\n",
      "50th percentile value of sales is 126690.0\n",
      "60th percentile value of sales is 149045.19999999998\n",
      "70th percentile value of sales is 174103.0\n",
      "80th percentile value of sales is 205470.00000000003\n",
      "90th percentile value of sales is 265843.5999999998\n",
      "100th percentile value of sales is 2147483647.0\n"
     ]
    }
   ],
   "source": [
    "#Check percentiles\n",
    "for i in range(10,110,10):\n",
    "    k=np.percentile(data['Mileage'],i)\n",
    "    print(\"{}th percentile value of sales is {}\".format(i,k))"
   ]
  },
  {
   "cell_type": "code",
   "execution_count": 27,
   "metadata": {},
   "outputs": [
    {
     "name": "stdout",
     "output_type": "stream",
     "text": [
      "90th percentile value of sales is 265843.5999999998\n",
      "91th percentile value of sales is 273412.0\n",
      "92th percentile value of sales is 280000.0\n",
      "93th percentile value of sales is 293002.1200000001\n",
      "94th percentile value of sales is 309948.39999999886\n",
      "95th percentile value of sales is 320554.0\n",
      "96th percentile value of sales is 350000.0\n",
      "97th percentile value of sales is 380000.0\n",
      "98th percentile value of sales is 430146.07999999996\n",
      "99th percentile value of sales is 565573.0\n",
      "100th percentile value of sales is 2147483647.0\n"
     ]
    }
   ],
   "source": [
    "#The difference between 90th and 100th percentile is huge so let's further zoom in there\n",
    "for i in range(90,101,1):\n",
    "    k=np.percentile(data['Mileage'],i)\n",
    "    print(\"{}th percentile value of sales is {}\".format(i,k))"
   ]
  },
  {
   "cell_type": "code",
   "execution_count": 28,
   "metadata": {},
   "outputs": [
    {
     "data": {
      "text/plain": [
       "2147483647.0"
      ]
     },
     "execution_count": 28,
     "metadata": {},
     "output_type": "execute_result"
    }
   ],
   "source": [
    "np.percentile(data['Mileage'],99.99)"
   ]
  },
  {
   "cell_type": "code",
   "execution_count": 29,
   "metadata": {},
   "outputs": [
    {
     "data": {
      "text/html": [
       "<div>\n",
       "<style scoped>\n",
       "    .dataframe tbody tr th:only-of-type {\n",
       "        vertical-align: middle;\n",
       "    }\n",
       "\n",
       "    .dataframe tbody tr th {\n",
       "        vertical-align: top;\n",
       "    }\n",
       "\n",
       "    .dataframe thead th {\n",
       "        text-align: right;\n",
       "    }\n",
       "</style>\n",
       "<table border=\"1\" class=\"dataframe\">\n",
       "  <thead>\n",
       "    <tr style=\"text-align: right;\">\n",
       "      <th></th>\n",
       "      <th>ID</th>\n",
       "      <th>Levy</th>\n",
       "      <th>Manufacturer</th>\n",
       "      <th>Model</th>\n",
       "      <th>Prod. year</th>\n",
       "      <th>Category</th>\n",
       "      <th>Leather interior</th>\n",
       "      <th>Fuel type</th>\n",
       "      <th>Engine volume</th>\n",
       "      <th>Mileage</th>\n",
       "      <th>Cylinders</th>\n",
       "      <th>Gear box type</th>\n",
       "      <th>Drive wheels</th>\n",
       "      <th>Doors</th>\n",
       "      <th>Wheel</th>\n",
       "      <th>Color</th>\n",
       "      <th>Airbags</th>\n",
       "    </tr>\n",
       "  </thead>\n",
       "  <tbody>\n",
       "    <tr>\n",
       "      <th>2608</th>\n",
       "      <td>45794749</td>\n",
       "      <td>906.247683</td>\n",
       "      <td>OPEL</td>\n",
       "      <td>Corsa</td>\n",
       "      <td>1997</td>\n",
       "      <td>Coupe</td>\n",
       "      <td>No</td>\n",
       "      <td>Petrol</td>\n",
       "      <td>1.4</td>\n",
       "      <td>2147483647</td>\n",
       "      <td>4</td>\n",
       "      <td>Manual</td>\n",
       "      <td>Front</td>\n",
       "      <td>02-Mar</td>\n",
       "      <td>Left wheel</td>\n",
       "      <td>Blue</td>\n",
       "      <td>2</td>\n",
       "    </tr>\n",
       "    <tr>\n",
       "      <th>4770</th>\n",
       "      <td>45816457</td>\n",
       "      <td>906.247683</td>\n",
       "      <td>TOYOTA</td>\n",
       "      <td>VOXY</td>\n",
       "      <td>2003</td>\n",
       "      <td>Minivan</td>\n",
       "      <td>No</td>\n",
       "      <td>Petrol</td>\n",
       "      <td>0.2</td>\n",
       "      <td>2147483647</td>\n",
       "      <td>4</td>\n",
       "      <td>Automatic</td>\n",
       "      <td>4x4</td>\n",
       "      <td>04-May</td>\n",
       "      <td>Right-hand drive</td>\n",
       "      <td>White</td>\n",
       "      <td>13</td>\n",
       "    </tr>\n",
       "    <tr>\n",
       "      <th>5355</th>\n",
       "      <td>45789219</td>\n",
       "      <td>906.247683</td>\n",
       "      <td>HYUNDAI</td>\n",
       "      <td>Sonata</td>\n",
       "      <td>2013</td>\n",
       "      <td>Sedan</td>\n",
       "      <td>Yes</td>\n",
       "      <td>Hybrid</td>\n",
       "      <td>2.4</td>\n",
       "      <td>2147483647</td>\n",
       "      <td>4</td>\n",
       "      <td>Automatic</td>\n",
       "      <td>Front</td>\n",
       "      <td>04-May</td>\n",
       "      <td>Left wheel</td>\n",
       "      <td>Carnelian red</td>\n",
       "      <td>12</td>\n",
       "    </tr>\n",
       "    <tr>\n",
       "      <th>7418</th>\n",
       "      <td>45758909</td>\n",
       "      <td>906.247683</td>\n",
       "      <td>VAZ</td>\n",
       "      <td>2106</td>\n",
       "      <td>1988</td>\n",
       "      <td>Sedan</td>\n",
       "      <td>No</td>\n",
       "      <td>Petrol</td>\n",
       "      <td>1.7</td>\n",
       "      <td>2147483647</td>\n",
       "      <td>4</td>\n",
       "      <td>Manual</td>\n",
       "      <td>Rear</td>\n",
       "      <td>04-May</td>\n",
       "      <td>Left wheel</td>\n",
       "      <td>Yellow</td>\n",
       "      <td>0</td>\n",
       "    </tr>\n",
       "  </tbody>\n",
       "</table>\n",
       "</div>"
      ],
      "text/plain": [
       "            ID        Levy Manufacturer   Model  Prod. year Category  \\\n",
       "2608  45794749  906.247683         OPEL   Corsa        1997    Coupe   \n",
       "4770  45816457  906.247683       TOYOTA    VOXY        2003  Minivan   \n",
       "5355  45789219  906.247683      HYUNDAI  Sonata        2013    Sedan   \n",
       "7418  45758909  906.247683          VAZ    2106        1988    Sedan   \n",
       "\n",
       "     Leather interior Fuel type Engine volume     Mileage  Cylinders  \\\n",
       "2608               No    Petrol           1.4  2147483647          4   \n",
       "4770               No    Petrol           0.2  2147483647          4   \n",
       "5355              Yes    Hybrid           2.4  2147483647          4   \n",
       "7418               No    Petrol           1.7  2147483647          4   \n",
       "\n",
       "     Gear box type Drive wheels   Doors             Wheel          Color  \\\n",
       "2608        Manual        Front  02-Mar        Left wheel           Blue   \n",
       "4770     Automatic          4x4  04-May  Right-hand drive          White   \n",
       "5355     Automatic        Front  04-May        Left wheel  Carnelian red   \n",
       "7418        Manual         Rear  04-May        Left wheel         Yellow   \n",
       "\n",
       "      Airbags  \n",
       "2608        2  \n",
       "4770       13  \n",
       "5355       12  \n",
       "7418        0  "
      ]
     },
     "execution_count": 29,
     "metadata": {},
     "output_type": "execute_result"
    }
   ],
   "source": [
    "test_data.loc[test_data['Mileage']==2147483647.0]"
   ]
  },
  {
   "cell_type": "markdown",
   "metadata": {},
   "source": [
    "- As the test_data contains Mileage with greater than 2147483647 unit, we are not removing such values from the train dataset."
   ]
  },
  {
   "cell_type": "code",
   "execution_count": 30,
   "metadata": {},
   "outputs": [],
   "source": [
    "#Remove 'Turbo' from Engine volume \n",
    "#Change str to float\n",
    "data[\"Engine volume\"]=(data[\"Engine volume\"].str.replace(\"Turbo\",\"\"))\n",
    "test_data[\"Engine volume\"]=(test_data[\"Engine volume\"].str.replace(\"Turbo\",\"\"))\n",
    "data[\"Engine volume\"]=(data[\"Engine volume\"].astype(float))\n",
    "test_data[\"Engine volume\"]=(test_data[\"Engine volume\"].astype(float))"
   ]
  },
  {
   "cell_type": "markdown",
   "metadata": {},
   "source": [
    "## 2.5 Simple countplots for categorical features"
   ]
  },
  {
   "cell_type": "markdown",
   "metadata": {},
   "source": [
    "- Some features which are numerical in nature but number of distinct values in them are really less, we can treat them as categorical features."
   ]
  },
  {
   "cell_type": "code",
   "execution_count": 33,
   "metadata": {},
   "outputs": [
    {
     "name": "stdout",
     "output_type": "stream",
     "text": [
      "Number of unique values in Engine volume= 65\n"
     ]
    },
    {
     "data": {
      "text/plain": [
       "<matplotlib.axes._subplots.AxesSubplot at 0x297194eeac8>"
      ]
     },
     "execution_count": 33,
     "metadata": {},
     "output_type": "execute_result"
    },
    {
     "data": {
      "image/png": "[encoded data removed]",
      "text/plain": [
       "<Figure size 576x1224 with 1 Axes>"
      ]
     },
     "metadata": {},
     "output_type": "display_data"
    }
   ],
   "source": [
    "#Engine volume in train data\n",
    "print(\"Number of unique values in Engine volume=\",len(data['Engine volume'].unique()))\n",
    "plt.figure(figsize=(8,17))\n",
    "sns.countplot(y=data['Engine volume'])"
   ]
  },
  {
   "cell_type": "code",
   "execution_count": 34,
   "metadata": {},
   "outputs": [
    {
     "name": "stdout",
     "output_type": "stream",
     "text": [
      "Number of unique values in Engine volume= 61\n"
     ]
    },
    {
     "data": {
      "text/plain": [
       "<matplotlib.axes._subplots.AxesSubplot at 0x29719d8c898>"
      ]
     },
     "execution_count": 34,
     "metadata": {},
     "output_type": "execute_result"
    },
    {
     "data": {
      "image/png": "[encoded data removed]",
      "text/plain": [
       "<Figure size 576x1080 with 1 Axes>"
      ]
     },
     "metadata": {},
     "output_type": "display_data"
    }
   ],
   "source": [
    "#Engine volume in test data\n",
    "print(\"Number of unique values in Engine volume=\",len(test_data['Engine volume'].unique()))\n",
    "plt.figure(figsize=(8,15))\n",
    "sns.countplot(y=test_data['Engine volume'])"
   ]
  },
  {
   "cell_type": "markdown",
   "metadata": {},
   "source": [
    "- From the above two plots we can see that Engine volume with value of 2.0 has maximum number of counts, followed by 2.5.\n",
    "- Some even occure only for once."
   ]
  },
  {
   "cell_type": "code",
   "execution_count": 39,
   "metadata": {},
   "outputs": [
    {
     "data": {
      "text/plain": [
       "<matplotlib.axes._subplots.AxesSubplot at 0x2971a47c978>"
      ]
     },
     "execution_count": 39,
     "metadata": {},
     "output_type": "execute_result"
    },
    {
     "data": {
      "image/png": "[encoded data removed]",
      "text/plain": [
       "<Figure size 576x864 with 1 Axes>"
      ]
     },
     "metadata": {},
     "output_type": "display_data"
    }
   ],
   "source": [
    "#Manufacturer in train data\n",
    "plt.figure(figsize=(8,12))\n",
    "sns.countplot(y=data['Manufacturer'])"
   ]
  },
  {
   "cell_type": "code",
   "execution_count": 40,
   "metadata": {},
   "outputs": [
    {
     "data": {
      "text/plain": [
       "<matplotlib.axes._subplots.AxesSubplot at 0x2971a64a2b0>"
      ]
     },
     "execution_count": 40,
     "metadata": {},
     "output_type": "execute_result"
    },
    {
     "data": {
      "image/png": "[encoded data removed]",
      "text/plain": [
       "<Figure size 576x864 with 1 Axes>"
      ]
     },
     "metadata": {},
     "output_type": "display_data"
    }
   ],
   "source": [
    "#Manufacturer in test data\n",
    "plt.figure(figsize=(8,12))\n",
    "sns.countplot(y=test_data['Manufacturer'])"
   ]
  },
  {
   "cell_type": "markdown",
   "metadata": {},
   "source": [
    "- The 'Manufacturer' called HYUNDAI made the highest number of cars, followed by TOYOTA and MARCEDES-BENZ."
   ]
  },
  {
   "cell_type": "code",
   "execution_count": 41,
   "metadata": {},
   "outputs": [
    {
     "data": {
      "text/plain": [
       "<matplotlib.axes._subplots.AxesSubplot at 0x2971b8b6240>"
      ]
     },
     "execution_count": 41,
     "metadata": {},
     "output_type": "execute_result"
    },
    {
     "data": {
      "image/png": "[encoded data removed]",
      "text/plain": [
       "<Figure size 720x1080 with 1 Axes>"
      ]
     },
     "metadata": {},
     "output_type": "display_data"
    }
   ],
   "source": [
    "#Production year in train data\n",
    "plt.figure(figsize=(10,15))\n",
    "sns.countplot(y=data['Prod. year'])"
   ]
  },
  {
   "cell_type": "code",
   "execution_count": 43,
   "metadata": {},
   "outputs": [
    {
     "data": {
      "text/plain": [
       "<matplotlib.axes._subplots.AxesSubplot at 0x2971bff6240>"
      ]
     },
     "execution_count": 43,
     "metadata": {},
     "output_type": "execute_result"
    },
    {
     "data": {
      "image/png": "[encoded data removed]",
      "text/plain": [
       "<Figure size 720x1080 with 1 Axes>"
      ]
     },
     "metadata": {},
     "output_type": "display_data"
    }
   ],
   "source": [
    "#Production year in test data\n",
    "plt.figure(figsize=(10,15))\n",
    "sns.countplot(y=test_data['Prod. year'])"
   ]
  },
  {
   "cell_type": "markdown",
   "metadata": {},
   "source": [
    "- We can see a nice increasing(mostly) pattern when we look into the number of car production happened from the year 1943 to early 21st century. In the year 2012 it scored to the top. \n",
    "- After 2012, there is a decline in production which can be seen clearly. Again it might happen due to less information also.\n",
    "- Maybe because of covid pandemic in 2020, very less cars produced."
   ]
  },
  {
   "cell_type": "code",
   "execution_count": 39,
   "metadata": {},
   "outputs": [
    {
     "data": {
      "text/plain": [
       "<matplotlib.axes._subplots.AxesSubplot at 0x1bfd3a63ba8>"
      ]
     },
     "execution_count": 39,
     "metadata": {},
     "output_type": "execute_result"
    },
    {
     "data": {
      "image/png": "[encoded data removed]",
      "text/plain": [
       "<Figure size 864x432 with 1 Axes>"
      ]
     },
     "metadata": {},
     "output_type": "display_data"
    }
   ],
   "source": [
    "##Category in train data\n",
    "plt.figure(figsize=(12,6))\n",
    "sns.countplot(x=data['Category'])"
   ]
  },
  {
   "cell_type": "code",
   "execution_count": 40,
   "metadata": {},
   "outputs": [
    {
     "data": {
      "text/plain": [
       "<matplotlib.axes._subplots.AxesSubplot at 0x1bfd3e39a58>"
      ]
     },
     "execution_count": 40,
     "metadata": {},
     "output_type": "execute_result"
    },
    {
     "data": {
      "image/png": "[encoded data removed]",
      "text/plain": [
       "<Figure size 864x432 with 1 Axes>"
      ]
     },
     "metadata": {},
     "output_type": "display_data"
    }
   ],
   "source": [
    "##Category in test data\n",
    "plt.figure(figsize=(12,6))\n",
    "sns.countplot(x=test_data['Category'])"
   ]
  },
  {
   "cell_type": "markdown",
   "metadata": {},
   "source": [
    "- When we see at the category of cars, we find that the Sedan is leading others."
   ]
  },
  {
   "cell_type": "code",
   "execution_count": 41,
   "metadata": {},
   "outputs": [
    {
     "data": {
      "text/plain": [
       "<matplotlib.axes._subplots.AxesSubplot at 0x1bfd5096278>"
      ]
     },
     "execution_count": 41,
     "metadata": {},
     "output_type": "execute_result"
    },
    {
     "data": {
      "image/png": "[encoded data removed]",
      "text/plain": [
       "<Figure size 432x288 with 1 Axes>"
      ]
     },
     "metadata": {},
     "output_type": "display_data"
    }
   ],
   "source": [
    "##Leather interior in train data\n",
    "sns.countplot(x=data['Leather interior'])"
   ]
  },
  {
   "cell_type": "code",
   "execution_count": 42,
   "metadata": {},
   "outputs": [
    {
     "data": {
      "text/plain": [
       "<matplotlib.axes._subplots.AxesSubplot at 0x1bfd5347518>"
      ]
     },
     "execution_count": 42,
     "metadata": {},
     "output_type": "execute_result"
    },
    {
     "data": {
      "image/png": "[encoded data removed]",
      "text/plain": [
       "<Figure size 432x288 with 1 Axes>"
      ]
     },
     "metadata": {},
     "output_type": "display_data"
    }
   ],
   "source": [
    "##Leather interior in test data\n",
    "sns.countplot(x=test_data['Leather interior'])"
   ]
  },
  {
   "cell_type": "markdown",
   "metadata": {},
   "source": [
    "- Leather interior is present in most cars, probably because custmers prefers them."
   ]
  },
  {
   "cell_type": "code",
   "execution_count": 43,
   "metadata": {},
   "outputs": [
    {
     "data": {
      "text/plain": [
       "<matplotlib.axes._subplots.AxesSubplot at 0x1bfd57fe828>"
      ]
     },
     "execution_count": 43,
     "metadata": {},
     "output_type": "execute_result"
    },
    {
     "data": {
      "image/png": "[encoded data removed]",
      "text/plain": [
       "<Figure size 576x288 with 1 Axes>"
      ]
     },
     "metadata": {},
     "output_type": "display_data"
    }
   ],
   "source": [
    "##Fuel type in train data\n",
    "plt.figure(figsize=(8,4))\n",
    "sns.countplot(x=data['Fuel type'])"
   ]
  },
  {
   "cell_type": "code",
   "execution_count": 44,
   "metadata": {},
   "outputs": [
    {
     "data": {
      "text/plain": [
       "<matplotlib.axes._subplots.AxesSubplot at 0x1bfd586d908>"
      ]
     },
     "execution_count": 44,
     "metadata": {},
     "output_type": "execute_result"
    },
    {
     "data": {
      "image/png": "[encoded data removed]",
      "text/plain": [
       "<Figure size 576x288 with 1 Axes>"
      ]
     },
     "metadata": {},
     "output_type": "display_data"
    }
   ],
   "source": [
    "#Fuel type in test data\n",
    "plt.figure(figsize=(8,4))\n",
    "sns.countplot(x=test_data['Fuel type'])"
   ]
  },
  {
   "cell_type": "markdown",
   "metadata": {},
   "source": [
    "- Most cars have petrol engine.\n",
    "- A very few cars have 'Plug-in Hybrid' engine, which are nothing but elctric cars in simple words."
   ]
  },
  {
   "cell_type": "code",
   "execution_count": 44,
   "metadata": {},
   "outputs": [],
   "source": [
    "#Replace irregularities presnt in the column Fuel type\n",
    "data['Fuel type'].replace(['Plug-in Hybrid'], ['plug_in_hybrid'], inplace=True)\n",
    "test_data['Fuel type'].replace(['Plug-in Hybrid'], ['plug_in_hybrid'], inplace=True)"
   ]
  },
  {
   "cell_type": "code",
   "execution_count": 45,
   "metadata": {},
   "outputs": [
    {
     "data": {
      "text/plain": [
       "<matplotlib.axes._subplots.AxesSubplot at 0x2971b8e9c50>"
      ]
     },
     "execution_count": 45,
     "metadata": {},
     "output_type": "execute_result"
    },
    {
     "data": {
      "image/png": "[encoded data removed]",
      "text/plain": [
       "<Figure size 432x288 with 1 Axes>"
      ]
     },
     "metadata": {},
     "output_type": "display_data"
    }
   ],
   "source": [
    "##Cylinders in train data\n",
    "sns.countplot(x=data['Cylinders'])"
   ]
  },
  {
   "cell_type": "markdown",
   "metadata": {},
   "source": [
    "- We can see that a car can have as low as one to as many as 16 cylinders."
   ]
  },
  {
   "cell_type": "code",
   "execution_count": 46,
   "metadata": {},
   "outputs": [
    {
     "data": {
      "text/plain": [
       "<matplotlib.axes._subplots.AxesSubplot at 0x2971c380f60>"
      ]
     },
     "execution_count": 46,
     "metadata": {},
     "output_type": "execute_result"
    },
    {
     "data": {
      "image/png": "[encoded data removed]",
      "text/plain": [
       "<Figure size 432x288 with 1 Axes>"
      ]
     },
     "metadata": {},
     "output_type": "display_data"
    }
   ],
   "source": [
    "##Cylinders in test data\n",
    "sns.countplot(x=test_data['Cylinders'])"
   ]
  },
  {
   "cell_type": "markdown",
   "metadata": {},
   "source": [
    "- Having 127 cylinders in a single car is impossible, so we can say that it's a misinformation."
   ]
  },
  {
   "cell_type": "code",
   "execution_count": 48,
   "metadata": {},
   "outputs": [
    {
     "data": {
      "text/html": [
       "<div>\n",
       "<style scoped>\n",
       "    .dataframe tbody tr th:only-of-type {\n",
       "        vertical-align: middle;\n",
       "    }\n",
       "\n",
       "    .dataframe tbody tr th {\n",
       "        vertical-align: top;\n",
       "    }\n",
       "\n",
       "    .dataframe thead th {\n",
       "        text-align: right;\n",
       "    }\n",
       "</style>\n",
       "<table border=\"1\" class=\"dataframe\">\n",
       "  <thead>\n",
       "    <tr style=\"text-align: right;\">\n",
       "      <th></th>\n",
       "      <th>ID</th>\n",
       "      <th>Levy</th>\n",
       "      <th>Manufacturer</th>\n",
       "      <th>Model</th>\n",
       "      <th>Prod. year</th>\n",
       "      <th>Category</th>\n",
       "      <th>Leather interior</th>\n",
       "      <th>Fuel type</th>\n",
       "      <th>Engine volume</th>\n",
       "      <th>Mileage</th>\n",
       "      <th>Cylinders</th>\n",
       "      <th>Gear box type</th>\n",
       "      <th>Drive wheels</th>\n",
       "      <th>Doors</th>\n",
       "      <th>Wheel</th>\n",
       "      <th>Color</th>\n",
       "      <th>Airbags</th>\n",
       "    </tr>\n",
       "  </thead>\n",
       "  <tbody>\n",
       "    <tr>\n",
       "      <th>2689</th>\n",
       "      <td>45792847</td>\n",
       "      <td>702.0</td>\n",
       "      <td>CHEVROLET</td>\n",
       "      <td>Captiva</td>\n",
       "      <td>2014</td>\n",
       "      <td>Jeep</td>\n",
       "      <td>Yes</td>\n",
       "      <td>Diesel</td>\n",
       "      <td>2.2</td>\n",
       "      <td>49643</td>\n",
       "      <td>127</td>\n",
       "      <td>Automatic</td>\n",
       "      <td>Front</td>\n",
       "      <td>04-May</td>\n",
       "      <td>Left wheel</td>\n",
       "      <td>White</td>\n",
       "      <td>4</td>\n",
       "    </tr>\n",
       "  </tbody>\n",
       "</table>\n",
       "</div>"
      ],
      "text/plain": [
       "            ID   Levy Manufacturer    Model  Prod. year Category  \\\n",
       "2689  45792847  702.0    CHEVROLET  Captiva        2014     Jeep   \n",
       "\n",
       "     Leather interior Fuel type  Engine volume  Mileage  Cylinders  \\\n",
       "2689              Yes    Diesel            2.2    49643        127   \n",
       "\n",
       "     Gear box type Drive wheels   Doors       Wheel  Color  Airbags  \n",
       "2689     Automatic        Front  04-May  Left wheel  White        4  "
      ]
     },
     "execution_count": 48,
     "metadata": {},
     "output_type": "execute_result"
    }
   ],
   "source": [
    "#For sanity check, let's have a look at the row where it has Cylinders=127\n",
    "test_data.loc[test_data['Cylinders']==127]"
   ]
  },
  {
   "cell_type": "code",
   "execution_count": 50,
   "metadata": {},
   "outputs": [],
   "source": [
    "#Let's replace 127 by 16 using index column\n",
    "test_data['Cylinders'][2689] = 16"
   ]
  },
  {
   "cell_type": "code",
   "execution_count": 54,
   "metadata": {},
   "outputs": [
    {
     "data": {
      "text/plain": [
       "<matplotlib.axes._subplots.AxesSubplot at 0x2971cb3f5f8>"
      ]
     },
     "execution_count": 54,
     "metadata": {},
     "output_type": "execute_result"
    },
    {
     "data": {
      "image/png": "[encoded data removed]",
      "text/plain": [
       "<Figure size 432x288 with 1 Axes>"
      ]
     },
     "metadata": {},
     "output_type": "display_data"
    }
   ],
   "source": [
    "##Gear box type in train data\n",
    "sns.countplot(x=data['Gear box type'])"
   ]
  },
  {
   "cell_type": "code",
   "execution_count": 55,
   "metadata": {},
   "outputs": [
    {
     "data": {
      "text/plain": [
       "<matplotlib.axes._subplots.AxesSubplot at 0x2971cb85eb8>"
      ]
     },
     "execution_count": 55,
     "metadata": {},
     "output_type": "execute_result"
    },
    {
     "data": {
      "image/png": "[encoded data removed]",
      "text/plain": [
       "<Figure size 432x288 with 1 Axes>"
      ]
     },
     "metadata": {},
     "output_type": "display_data"
    }
   ],
   "source": [
    "##Gear box type in test data\n",
    "sns.countplot(x=test_data['Gear box type'])"
   ]
  },
  {
   "cell_type": "code",
   "execution_count": 50,
   "metadata": {},
   "outputs": [
    {
     "data": {
      "text/plain": [
       "<matplotlib.axes._subplots.AxesSubplot at 0x1bfd5a80358>"
      ]
     },
     "execution_count": 50,
     "metadata": {},
     "output_type": "execute_result"
    },
    {
     "data": {
      "image/png": "[encoded data removed]",
      "text/plain": [
       "<Figure size 432x288 with 1 Axes>"
      ]
     },
     "metadata": {},
     "output_type": "display_data"
    }
   ],
   "source": [
    "###Drive wheels in train data\n",
    "sns.countplot(x=data['Drive wheels'])"
   ]
  },
  {
   "cell_type": "code",
   "execution_count": 51,
   "metadata": {},
   "outputs": [
    {
     "data": {
      "text/plain": [
       "<matplotlib.axes._subplots.AxesSubplot at 0x1bfd5adc780>"
      ]
     },
     "execution_count": 51,
     "metadata": {},
     "output_type": "execute_result"
    },
    {
     "data": {
      "image/png": "[encoded data removed]",
      "text/plain": [
       "<Figure size 432x288 with 1 Axes>"
      ]
     },
     "metadata": {},
     "output_type": "display_data"
    }
   ],
   "source": [
    "#Drive wheels in test data\n",
    "sns.countplot(x=test_data['Drive wheels'])"
   ]
  },
  {
   "cell_type": "code",
   "execution_count": 56,
   "metadata": {},
   "outputs": [],
   "source": [
    "#Replace irregularities presnt in the column Drive wheels\n",
    "data['Drive wheels'].replace(['Front','4x4', 'Rear'],['front','other', 'rear'],inplace = True)\n",
    "test_data['Drive wheels'].replace(['Front','4x4', 'Rear'],['front','other', 'rear'],inplace = True)"
   ]
  },
  {
   "cell_type": "code",
   "execution_count": 57,
   "metadata": {},
   "outputs": [
    {
     "data": {
      "text/plain": [
       "<matplotlib.axes._subplots.AxesSubplot at 0x2971cbe1208>"
      ]
     },
     "execution_count": 57,
     "metadata": {},
     "output_type": "execute_result"
    },
    {
     "data": {
      "image/png": "[encoded data removed]",
      "text/plain": [
       "<Figure size 432x288 with 1 Axes>"
      ]
     },
     "metadata": {},
     "output_type": "display_data"
    }
   ],
   "source": [
    "#Doors in train data\n",
    "sns.countplot(x=data['Doors'])"
   ]
  },
  {
   "cell_type": "code",
   "execution_count": 58,
   "metadata": {},
   "outputs": [
    {
     "data": {
      "text/plain": [
       "<matplotlib.axes._subplots.AxesSubplot at 0x2971cc27940>"
      ]
     },
     "execution_count": 58,
     "metadata": {},
     "output_type": "execute_result"
    },
    {
     "data": {
      "image/png": "[encoded data removed]",
      "text/plain": [
       "<Figure size 432x288 with 1 Axes>"
      ]
     },
     "metadata": {},
     "output_type": "display_data"
    }
   ],
   "source": [
    "#Doors in test data\n",
    "sns.countplot(x=test_data['Doors'])"
   ]
  },
  {
   "cell_type": "code",
   "execution_count": 59,
   "metadata": {},
   "outputs": [],
   "source": [
    "##Replace irregularities presnt in the column Doors\n",
    "data['Doors'].replace(['02-Mar','04-May', '>5'],[2,4, 5],inplace = True)\n",
    "test_data['Doors'].replace(['02-Mar','04-May', '>5'],[2, 4, 5],inplace = True)"
   ]
  },
  {
   "cell_type": "code",
   "execution_count": 56,
   "metadata": {},
   "outputs": [
    {
     "data": {
      "text/plain": [
       "<matplotlib.axes._subplots.AxesSubplot at 0x1bfd5bdd860>"
      ]
     },
     "execution_count": 56,
     "metadata": {},
     "output_type": "execute_result"
    },
    {
     "data": {
      "image/png": "[encoded data removed]",
      "text/plain": [
       "<Figure size 432x288 with 1 Axes>"
      ]
     },
     "metadata": {},
     "output_type": "display_data"
    }
   ],
   "source": [
    "#Wheels in train data\n",
    "sns.countplot(x=data['Wheel'])"
   ]
  },
  {
   "cell_type": "code",
   "execution_count": 57,
   "metadata": {},
   "outputs": [
    {
     "data": {
      "text/plain": [
       "<matplotlib.axes._subplots.AxesSubplot at 0x1bfd5b71978>"
      ]
     },
     "execution_count": 57,
     "metadata": {},
     "output_type": "execute_result"
    },
    {
     "data": {
      "image/png": "[encoded data removed]",
      "text/plain": [
       "<Figure size 432x288 with 1 Axes>"
      ]
     },
     "metadata": {},
     "output_type": "display_data"
    }
   ],
   "source": [
    "#Wheels in test data\n",
    "sns.countplot(x=test_data['Wheel'])"
   ]
  },
  {
   "cell_type": "code",
   "execution_count": 58,
   "metadata": {},
   "outputs": [],
   "source": [
    "#Replace irregularities presnt in the column called Wheels\n",
    "data['Wheel'].replace(['Left wheel','Right-hand drive'],['left_wheel','right_hand_drive'],inplace = True)\n",
    "test_data['Wheel'].replace(['Left wheel','Right-hand drive'],['left_wheel','Right_hand_drive'],inplace = True)"
   ]
  },
  {
   "cell_type": "code",
   "execution_count": 60,
   "metadata": {},
   "outputs": [
    {
     "data": {
      "text/plain": [
       "<matplotlib.axes._subplots.AxesSubplot at 0x2971cc89748>"
      ]
     },
     "execution_count": 60,
     "metadata": {},
     "output_type": "execute_result"
    },
    {
     "data": {
      "image/png": "[encoded data removed]",
      "text/plain": [
       "<Figure size 1080x360 with 1 Axes>"
      ]
     },
     "metadata": {},
     "output_type": "display_data"
    }
   ],
   "source": [
    "#Colors present in the train data\n",
    "plt.figure(figsize=(15,5))\n",
    "sns.countplot(x=data['Color'])"
   ]
  },
  {
   "cell_type": "code",
   "execution_count": 61,
   "metadata": {},
   "outputs": [
    {
     "data": {
      "text/plain": [
       "<matplotlib.axes._subplots.AxesSubplot at 0x2971cbe1eb8>"
      ]
     },
     "execution_count": 61,
     "metadata": {},
     "output_type": "execute_result"
    },
    {
     "data": {
      "image/png": "[encoded data removed]",
      "text/plain": [
       "<Figure size 1080x360 with 1 Axes>"
      ]
     },
     "metadata": {},
     "output_type": "display_data"
    }
   ],
   "source": [
    "#Colors present in the test data\n",
    "plt.figure(figsize=(15,5))\n",
    "sns.countplot(x=test_data['Color'])"
   ]
  },
  {
   "cell_type": "markdown",
   "metadata": {},
   "source": [
    "- We can see that black, white and silver are the dominating colours where as pink is the most unpopular colour when it comes to cars."
   ]
  },
  {
   "cell_type": "code",
   "execution_count": 61,
   "metadata": {},
   "outputs": [
    {
     "data": {
      "text/plain": [
       "<matplotlib.axes._subplots.AxesSubplot at 0x1bfd5ebce10>"
      ]
     },
     "execution_count": 61,
     "metadata": {},
     "output_type": "execute_result"
    },
    {
     "data": {
      "image/png": "[encoded data removed]",
      "text/plain": [
       "<Figure size 432x288 with 1 Axes>"
      ]
     },
     "metadata": {},
     "output_type": "display_data"
    }
   ],
   "source": [
    "#Airbags present in the test data\n",
    "sns.countplot(x=data['Airbags'])"
   ]
  },
  {
   "cell_type": "code",
   "execution_count": 62,
   "metadata": {},
   "outputs": [
    {
     "data": {
      "text/plain": [
       "<matplotlib.axes._subplots.AxesSubplot at 0x1bfd5f4c198>"
      ]
     },
     "execution_count": 62,
     "metadata": {},
     "output_type": "execute_result"
    },
    {
     "data": {
      "image/png": "[encoded data removed]",
      "text/plain": [
       "<Figure size 432x288 with 1 Axes>"
      ]
     },
     "metadata": {},
     "output_type": "display_data"
    }
   ],
   "source": [
    "#Airbags present in the test data\n",
    "sns.countplot(x=test_data['Airbags'])"
   ]
  },
  {
   "cell_type": "markdown",
   "metadata": {},
   "source": [
    "## 2.6 Heatmap to find the correlation among varibles"
   ]
  },
  {
   "cell_type": "code",
   "execution_count": 62,
   "metadata": {},
   "outputs": [
    {
     "data": {
      "text/plain": [
       "<matplotlib.axes._subplots.AxesSubplot at 0x2971cc89978>"
      ]
     },
     "execution_count": 62,
     "metadata": {},
     "output_type": "execute_result"
    },
    {
     "data": {
      "image/png": "[encoded data removed]",
      "text/plain": [
       "<Figure size 648x648 with 2 Axes>"
      ]
     },
     "metadata": {},
     "output_type": "display_data"
    }
   ],
   "source": [
    "plt.figure(figsize=(9, 9))\n",
    "sns.set_style(\"darkgrid\")\n",
    "sns.heatmap(data.corr(), square=True, annot=True)"
   ]
  },
  {
   "cell_type": "markdown",
   "metadata": {},
   "source": [
    "- We can see that 'Engine volume', 'cylinders' and 'Levy' are correlated but they are important when the target variable viz.'Price' is considered, that's why we are not removing any of these features."
   ]
  },
  {
   "cell_type": "markdown",
   "metadata": {},
   "source": [
    "## 2.6 Replace capital words"
   ]
  },
  {
   "cell_type": "code",
   "execution_count": 63,
   "metadata": {},
   "outputs": [],
   "source": [
    "for col in data.columns:\n",
    "    if data[col].dtype=='object':\n",
    "        data[col]=data[col].str.lower()\n",
    "        test_data[col] = test_data[col].str.lower()"
   ]
  },
  {
   "cell_type": "markdown",
   "metadata": {},
   "source": [
    "# 3. Train Test split"
   ]
  },
  {
   "cell_type": "code",
   "execution_count": 64,
   "metadata": {},
   "outputs": [],
   "source": [
    "#remove unusable features\n",
    "data=data.drop(columns=['ID'], axis=1)\n",
    "test_data=test_data.drop(columns=['ID'], axis=1)"
   ]
  },
  {
   "cell_type": "markdown",
   "metadata": {},
   "source": [
    "- To avoid the problem of data leakage, it's really important to split the data before encoding."
   ]
  },
  {
   "cell_type": "code",
   "execution_count": 65,
   "metadata": {},
   "outputs": [
    {
     "data": {
      "text/plain": [
       "((14027, 16), (14027,), (4676, 16), (4676,))"
      ]
     },
     "execution_count": 65,
     "metadata": {},
     "output_type": "execute_result"
    }
   ],
   "source": [
    "#Split the data\n",
    "y=data['Price'].values\n",
    "X=data.drop(columns=['Price'], axis=1)\n",
    "#Split the dataset into train and cv\n",
    "from sklearn.model_selection import train_test_split\n",
    "X_train, X_cv, y_train, y_cv = train_test_split(X, y, train_size=0.75, random_state=0, shuffle=True)\n",
    "X_train.shape, y_train.shape, X_cv.shape, y_cv.shape"
   ]
  },
  {
   "cell_type": "code",
   "execution_count": 66,
   "metadata": {},
   "outputs": [
    {
     "data": {
      "text/plain": [
       "(8245, 16)"
      ]
     },
     "execution_count": 66,
     "metadata": {},
     "output_type": "execute_result"
    }
   ],
   "source": [
    "X_test=test_data\n",
    "test_data.shape"
   ]
  },
  {
   "cell_type": "markdown",
   "metadata": {},
   "source": [
    "# 4. Encoding"
   ]
  },
  {
   "cell_type": "markdown",
   "metadata": {},
   "source": [
    "# 4.1 Encoding categorical features"
   ]
  },
  {
   "cell_type": "code",
   "execution_count": 70,
   "metadata": {},
   "outputs": [
    {
     "name": "stdout",
     "output_type": "stream",
     "text": [
      "After vectorizations\n",
      "(14027, 61) (14027,)\n",
      "(4676, 61) (4676,)\n",
      "(8245, 61)\n",
      "['acura', 'alfa_romeo', 'aston_martin', 'audi', 'bentley', 'bmw', 'buick', 'cadillac', 'chevrolet', 'chrysler', 'citroen', 'daewoo', 'daihatsu', 'dodge', 'ferrari', 'fiat', 'ford', 'gaz', 'gmc', 'haval', 'honda', 'hummer', 'hyundai', 'infiniti', 'isuzu', 'jaguar', 'jeep', 'kia', 'lamborghini', 'land_rover', 'lexus', 'lincoln', 'maserati', 'mazda', 'mercedes_benz', 'mercury', 'mini', 'mitsubishi', 'moskvich', 'nissan', 'opel', 'peugeot', 'pontiac', 'porsche', 'renault', 'rolls_royce', 'rover', 'saab', 'scion', 'seat', 'skoda', 'ssangyong', 'subaru', 'suzuki', 'toyota', 'uaz', 'vaz', 'volkswagen', 'volvo', 'zaz', 'სხვა']\n",
      "========================================================================================================================\n"
     ]
    }
   ],
   "source": [
    "from sklearn.feature_extraction.text import CountVectorizer\n",
    "\n",
    "vectorizer = CountVectorizer()\n",
    "X_train_Manufacturer = vectorizer.fit_transform(X_train['Manufacturer'].values)\n",
    "X_cv_Manufacturer = vectorizer.transform(X_cv['Manufacturer'].values)\n",
    "X_test_Manufacturer = vectorizer.transform(X_test['Manufacturer'].values)\n",
    "\n",
    "print(\"After vectorizations\")\n",
    "#Print the shape to vaoid confusion\n",
    "print(X_train_Manufacturer.shape, y_train.shape)\n",
    "print(X_cv_Manufacturer.shape, y_cv.shape)\n",
    "print(X_test_Manufacturer.shape)\n",
    "print(vectorizer.get_feature_names())\n",
    "print(\"=\"*120)"
   ]
  },
  {
   "cell_type": "code",
   "execution_count": 80,
   "metadata": {},
   "outputs": [
    {
     "name": "stdout",
     "output_type": "stream",
     "text": [
      "After vectorizations\n",
      "(14027, 1288) (14027,)\n",
      "(4676, 1288) (4676,)\n",
      "(8245, 1288)\n",
      "==============================================================================================================================\n"
     ]
    }
   ],
   "source": [
    "vectorizer = CountVectorizer()\n",
    "X_train_Model = vectorizer.fit_transform(X_train['Model'].values)\n",
    "X_cv_Model = vectorizer.transform(X_cv['Model'].values)\n",
    "X_test_Model = vectorizer.transform(X_test['Model'].values)\n",
    "\n",
    "print(\"After vectorizations\")\n",
    "print(X_train_Model.shape, y_train.shape)\n",
    "print(X_cv_Model.shape, y_cv.shape)\n",
    "print(X_test_Model.shape)\n",
    "#print(vectorizer.get_feature_names())\n",
    "print(\"=\"*126)"
   ]
  },
  {
   "cell_type": "code",
   "execution_count": 81,
   "metadata": {},
   "outputs": [
    {
     "name": "stdout",
     "output_type": "stream",
     "text": [
      "After vectorizations\n",
      "(14027, 12) (14027,)\n",
      "(4676, 12) (4676,)\n",
      "(8245, 12)\n",
      "['cabriolet', 'coupe', 'goods', 'hatchback', 'jeep', 'limousine', 'microbus', 'minivan', 'pickup', 'sedan', 'universal', 'wagon']\n",
      "==============================================================================================================================\n"
     ]
    }
   ],
   "source": [
    "vectorizer = CountVectorizer()\n",
    "X_train_Category = vectorizer.fit_transform(X_train['Category'].values)\n",
    "X_cv_Category = vectorizer.transform(X_cv['Category'].values)\n",
    "X_test_Category = vectorizer.transform(X_test['Category'].values)\n",
    "\n",
    "print(\"After vectorizations\")\n",
    "print(X_train_Category.shape, y_train.shape)\n",
    "print(X_cv_Category.shape, y_cv.shape)\n",
    "print(X_test_Category.shape)\n",
    "print(vectorizer.get_feature_names())\n",
    "print(\"=\"*126)"
   ]
  },
  {
   "cell_type": "code",
   "execution_count": 82,
   "metadata": {},
   "outputs": [
    {
     "name": "stdout",
     "output_type": "stream",
     "text": [
      "After vectorizations\n",
      "(14027, 2) (14027,)\n",
      "(4676, 2) (4676,)\n",
      "(8245, 2)\n",
      "['no', 'yes']\n",
      "==============================================================================================================================\n"
     ]
    }
   ],
   "source": [
    "vectorizer = CountVectorizer()\n",
    "X_train_Leather_interior = vectorizer.fit_transform(X_train['Leather interior'].values)\n",
    "X_cv_Leather_interior = vectorizer.transform(X_cv['Leather interior'].values)\n",
    "X_test_Leather_interior = vectorizer.transform(X_test['Leather interior'].values)\n",
    "\n",
    "print(\"After vectorizations\")\n",
    "print(X_train_Leather_interior.shape, y_train.shape)\n",
    "print(X_cv_Leather_interior.shape, y_cv.shape)\n",
    "print(X_test_Leather_interior.shape)\n",
    "print(vectorizer.get_feature_names())\n",
    "print(\"=\"*126)"
   ]
  },
  {
   "cell_type": "code",
   "execution_count": 83,
   "metadata": {},
   "outputs": [
    {
     "name": "stdout",
     "output_type": "stream",
     "text": [
      "After vectorizations\n",
      "(14027, 7) (14027,)\n",
      "(4676, 7) (4676,)\n",
      "(8245, 7)\n",
      "['cng', 'diesel', 'hybrid', 'hydrogen', 'lpg', 'petrol', 'plug_in_hybrid']\n",
      "==============================================================================================================================\n"
     ]
    }
   ],
   "source": [
    "vectorizer = CountVectorizer()\n",
    "X_train_Fuel_type = vectorizer.fit_transform(X_train['Fuel type'].values)\n",
    "X_cv_Fuel_type = vectorizer.transform(X_cv['Fuel type'].values)\n",
    "X_test_Fuel_type = vectorizer.transform(X_test['Fuel type'].values)\n",
    "\n",
    "print(\"After vectorizations\")\n",
    "print(X_train_Fuel_type.shape, y_train.shape)\n",
    "print(X_cv_Fuel_type.shape, y_cv.shape)\n",
    "print(X_test_Fuel_type.shape)\n",
    "print(vectorizer.get_feature_names())\n",
    "print(\"=\"*126)"
   ]
  },
  {
   "cell_type": "code",
   "execution_count": 84,
   "metadata": {},
   "outputs": [
    {
     "name": "stdout",
     "output_type": "stream",
     "text": [
      "After vectorizations\n",
      "(14027, 4) (14027,)\n",
      "(4676, 4) (4676,)\n",
      "(8245, 4)\n",
      "['automatic', 'manual', 'tiptronic', 'variator']\n",
      "==============================================================================================================================\n"
     ]
    }
   ],
   "source": [
    "vectorizer = CountVectorizer()\n",
    "X_train_Gear_box_type = vectorizer.fit_transform(X_train['Gear box type'].values)\n",
    "X_cv_Gear_box_type = vectorizer.transform(X_cv['Gear box type'].values)\n",
    "X_test_Gear_box_type = vectorizer.transform(X_test['Gear box type'].values)\n",
    "\n",
    "print(\"After vectorizations\")\n",
    "print(X_train_Gear_box_type.shape, y_train.shape)\n",
    "print(X_cv_Gear_box_type.shape, y_cv.shape)\n",
    "print(X_test_Gear_box_type.shape)\n",
    "print(vectorizer.get_feature_names())\n",
    "print(\"=\"*126)"
   ]
  },
  {
   "cell_type": "code",
   "execution_count": 85,
   "metadata": {},
   "outputs": [
    {
     "name": "stdout",
     "output_type": "stream",
     "text": [
      "After vectorizations\n",
      "(14027, 3) (14027,)\n",
      "(4676, 3) (4676,)\n",
      "(8245, 3)\n",
      "['front', 'other', 'rear']\n",
      "==============================================================================================================================\n"
     ]
    }
   ],
   "source": [
    "vectorizer = CountVectorizer()\n",
    "X_train_Drive_wheels = vectorizer.fit_transform(X_train['Drive wheels'].values)\n",
    "X_cv_Drive_wheels = vectorizer.transform(X_cv['Drive wheels'].values)\n",
    "X_test_Drive_wheels = vectorizer.transform(X_test['Drive wheels'].values)\n",
    "\n",
    "print(\"After vectorizations\")\n",
    "print(X_train_Drive_wheels.shape, y_train.shape)\n",
    "print(X_cv_Drive_wheels.shape, y_cv.shape)\n",
    "print(X_test_Drive_wheels.shape)\n",
    "print(vectorizer.get_feature_names())\n",
    "print(\"=\"*126)"
   ]
  },
  {
   "cell_type": "code",
   "execution_count": 86,
   "metadata": {},
   "outputs": [
    {
     "name": "stdout",
     "output_type": "stream",
     "text": [
      "After vectorizations\n",
      "(14027, 5) (14027,)\n",
      "(4676, 5) (4676,)\n",
      "(8245, 5)\n",
      "['drive', 'hand', 'left', 'right', 'wheel']\n",
      "==============================================================================================================================\n"
     ]
    }
   ],
   "source": [
    "vectorizer = CountVectorizer()\n",
    "X_train_Wheel = vectorizer.fit_transform(X_train['Wheel'].values)\n",
    "X_cv_Wheel = vectorizer.transform(X_cv['Wheel'].values)\n",
    "X_test_Wheel = vectorizer.transform(X_test['Wheel'].values)\n",
    "\n",
    "print(\"After vectorizations\")\n",
    "print(X_train_Wheel.shape, y_train.shape)\n",
    "print(X_cv_Wheel.shape, y_cv.shape)\n",
    "print(X_test_Wheel.shape)\n",
    "print(vectorizer.get_feature_names())\n",
    "print(\"=\"*126)"
   ]
  },
  {
   "cell_type": "code",
   "execution_count": 87,
   "metadata": {},
   "outputs": [
    {
     "name": "stdout",
     "output_type": "stream",
     "text": [
      "After vectorizations\n",
      "(14027, 16) (14027,)\n",
      "(4676, 16) (4676,)\n",
      "(8245, 16)\n",
      "['beige', 'black', 'blue', 'brown', 'carnelian', 'golden', 'green', 'grey', 'orange', 'pink', 'purple', 'red', 'silver', 'sky', 'white', 'yellow']\n",
      "==============================================================================================================================\n"
     ]
    }
   ],
   "source": [
    "vectorizer = CountVectorizer()\n",
    "X_train_Color = vectorizer.fit_transform(X_train['Color'].values)\n",
    "X_cv_Color = vectorizer.transform(X_cv['Color'].values)\n",
    "X_test_Color = vectorizer.transform(X_test['Color'].values)\n",
    "\n",
    "print(\"After vectorizations\")\n",
    "print(X_train_Color.shape, y_train.shape)\n",
    "print(X_cv_Color.shape, y_cv.shape)\n",
    "print(X_test_Color.shape)\n",
    "print(vectorizer.get_feature_names())\n",
    "print(\"=\"*126)"
   ]
  },
  {
   "cell_type": "markdown",
   "metadata": {},
   "source": [
    "# 4.2 Encoding numerical features"
   ]
  },
  {
   "cell_type": "markdown",
   "metadata": {},
   "source": [
    "- There are some numerical features which has very less number of unique values, so they can be considered as categorical  features like Engine volume, Prod. year, Cylinders etc."
   ]
  },
  {
   "cell_type": "code",
   "execution_count": 89,
   "metadata": {},
   "outputs": [
    {
     "name": "stdout",
     "output_type": "stream",
     "text": [
      "After vectorizations\n",
      "(14027, 65) (14027,)\n",
      "(4676, 65) (4676,)\n",
      "(8245, 65)\n",
      "['x0_0.0' 'x0_0.1' 'x0_0.2' 'x0_0.3' 'x0_0.4' 'x0_0.5' 'x0_0.6' 'x0_0.7'\n",
      " 'x0_0.8' 'x0_0.9' 'x0_1.0' 'x0_1.1' 'x0_1.2' 'x0_1.3' 'x0_1.4' 'x0_1.5'\n",
      " 'x0_1.6' 'x0_1.7' 'x0_1.8' 'x0_1.9' 'x0_2.0' 'x0_2.1' 'x0_2.2' 'x0_2.3'\n",
      " 'x0_2.4' 'x0_2.5' 'x0_2.6' 'x0_2.7' 'x0_2.8' 'x0_2.9' 'x0_3.0' 'x0_3.1'\n",
      " 'x0_3.2' 'x0_3.3' 'x0_3.4' 'x0_3.5' 'x0_3.6' 'x0_3.7' 'x0_3.8' 'x0_3.9'\n",
      " 'x0_4.0' 'x0_4.2' 'x0_4.3' 'x0_4.4' 'x0_4.5' 'x0_4.6' 'x0_4.7' 'x0_4.8'\n",
      " 'x0_5.0' 'x0_5.2' 'x0_5.3' 'x0_5.4' 'x0_5.5' 'x0_5.6' 'x0_5.7' 'x0_5.8'\n",
      " 'x0_5.9' 'x0_6.0' 'x0_6.2' 'x0_6.3' 'x0_6.4' 'x0_6.7' 'x0_6.8' 'x0_7.3'\n",
      " 'x0_20.0']\n",
      "==============================================================================================================================\n"
     ]
    }
   ],
   "source": [
    "from sklearn.preprocessing import OneHotEncoder\n",
    "vectorizer =OneHotEncoder(handle_unknown='ignore')\n",
    "\n",
    "vectorizer.fit(data['Engine volume'].values.reshape(-1,1))\n",
    "X_train_Engine_volume = vectorizer.transform(X_train['Engine volume'].values.reshape(-1,1))\n",
    "X_cv_Engine_volume = vectorizer.transform(X_cv['Engine volume'].values.reshape(-1,1))\n",
    "X_test_Engine_volume = vectorizer.transform(X_test['Engine volume'].values.reshape(-1,1))\n",
    "\n",
    "print(\"After vectorizations\")\n",
    "print(X_train_Engine_volume.shape, y_train.shape)\n",
    "print(X_cv_Engine_volume.shape, y_cv.shape)\n",
    "print(X_test_Engine_volume.shape)\n",
    "print(vectorizer.get_feature_names())\n",
    "print(\"=\"*126)"
   ]
  },
  {
   "cell_type": "code",
   "execution_count": 91,
   "metadata": {},
   "outputs": [
    {
     "name": "stdout",
     "output_type": "stream",
     "text": [
      "After vectorizations\n",
      "(14027, 53) (14027,)\n",
      "(4676, 53) (4676,)\n",
      "(8245, 53)\n",
      "['x0_1939' 'x0_1943' 'x0_1947' 'x0_1953' 'x0_1957' 'x0_1964' 'x0_1965'\n",
      " 'x0_1968' 'x0_1973' 'x0_1976' 'x0_1977' 'x0_1978' 'x0_1980' 'x0_1981'\n",
      " 'x0_1982' 'x0_1983' 'x0_1984' 'x0_1985' 'x0_1986' 'x0_1987' 'x0_1988'\n",
      " 'x0_1989' 'x0_1990' 'x0_1991' 'x0_1992' 'x0_1993' 'x0_1994' 'x0_1995'\n",
      " 'x0_1996' 'x0_1997' 'x0_1998' 'x0_1999' 'x0_2000' 'x0_2001' 'x0_2002'\n",
      " 'x0_2003' 'x0_2004' 'x0_2005' 'x0_2006' 'x0_2007' 'x0_2008' 'x0_2009'\n",
      " 'x0_2010' 'x0_2011' 'x0_2012' 'x0_2013' 'x0_2014' 'x0_2015' 'x0_2016'\n",
      " 'x0_2017' 'x0_2018' 'x0_2019' 'x0_2020']\n",
      "==============================================================================================================================\n"
     ]
    }
   ],
   "source": [
    "vectorizer =OneHotEncoder(handle_unknown='ignore')\n",
    "\n",
    "vectorizer.fit(data['Prod. year'].values.reshape(-1,1))\n",
    "X_train_Prod_year = vectorizer.transform(X_train['Prod. year'].values.reshape(-1,1))\n",
    "X_cv_Prod_year = vectorizer.transform(X_cv['Prod. year'].values.reshape(-1,1))\n",
    "X_test_Prod_year = vectorizer.transform(X_test['Prod. year'].values.reshape(-1,1))\n",
    "\n",
    "print(\"After vectorizations\")\n",
    "print(X_train_Prod_year.shape, y_train.shape)\n",
    "print(X_cv_Prod_year.shape, y_cv.shape)\n",
    "print(X_test_Prod_year.shape)\n",
    "print(vectorizer.get_feature_names())\n",
    "print(\"=\"*126)"
   ]
  },
  {
   "cell_type": "code",
   "execution_count": 92,
   "metadata": {},
   "outputs": [
    {
     "name": "stdout",
     "output_type": "stream",
     "text": [
      "After vectorizations\n",
      "(14027, 13) (14027,)\n",
      "(4676, 13) (4676,)\n",
      "(8245, 13)\n",
      "['x0_1.0' 'x0_2.0' 'x0_3.0' 'x0_4.0' 'x0_5.0' 'x0_6.0' 'x0_7.0' 'x0_8.0'\n",
      " 'x0_9.0' 'x0_10.0' 'x0_12.0' 'x0_14.0' 'x0_16.0']\n",
      "====================================================================================================\n"
     ]
    }
   ],
   "source": [
    "vectorizer = OneHotEncoder(handle_unknown='ignore')\n",
    "\n",
    "X_train_Cylinders = vectorizer.fit_transform(X_train['Cylinders'].values.reshape(-1,1))\n",
    "X_cv_Cylinders = vectorizer.transform(X_cv['Cylinders'].values.reshape(-1,1))\n",
    "X_test_Cylinders = vectorizer.transform(X_test['Cylinders'].values.reshape(-1,1))\n",
    "\n",
    "print(\"After vectorizations\")\n",
    "print(X_train_Cylinders.shape, y_train.shape)\n",
    "print(X_cv_Cylinders.shape, y_cv.shape)\n",
    "print(X_test_Cylinders.shape)\n",
    "print(vectorizer.get_feature_names())\n",
    "print(\"=\"*100)"
   ]
  },
  {
   "cell_type": "code",
   "execution_count": 98,
   "metadata": {},
   "outputs": [
    {
     "name": "stdout",
     "output_type": "stream",
     "text": [
      "After vectorizations\n",
      "(14027, 1) (14027,)\n",
      "(4676, 1) (4676,)\n",
      "(8245, 1)\n",
      "====================================================================================================\n"
     ]
    }
   ],
   "source": [
    "from sklearn.preprocessing import OrdinalEncoder\n",
    "vectorizer = OrdinalEncoder()\n",
    "# we use the fitted CountVectorizer to convert the text to vector\n",
    "X_train_Doors = vectorizer.fit_transform(X_train['Doors'].values.reshape(-1,1))\n",
    "X_cv_Doors = vectorizer.transform(X_cv['Doors'].values.reshape(-1,1))\n",
    "X_test_Doors = vectorizer.transform(X_test['Doors'].values.reshape(-1,1))\n",
    "\n",
    "print(\"After vectorizations\")\n",
    "print(X_train_Doors.shape, y_train.shape)\n",
    "print(X_cv_Doors.shape, y_cv.shape)\n",
    "print(X_test_Doors.shape)\n",
    "print(\"=\"*100)"
   ]
  },
  {
   "cell_type": "code",
   "execution_count": 94,
   "metadata": {},
   "outputs": [
    {
     "name": "stdout",
     "output_type": "stream",
     "text": [
      "After vectorizations\n",
      "(14027, 1) (14027,)\n",
      "(4676, 1) (4676,)\n",
      "(8245, 1)\n",
      "====================================================================================================\n"
     ]
    }
   ],
   "source": [
    "from sklearn.preprocessing import OrdinalEncoder\n",
    "\n",
    "vectorizer = OrdinalEncoder()\n",
    "# we use the fitted CountVectorizer to convert the text to vector\n",
    "X_train_Airbags = vectorizer.fit_transform(X_train['Airbags'].values.reshape(-1,1))\n",
    "X_cv_Airbags = vectorizer.transform(X_cv['Airbags'].values.reshape(-1,1))\n",
    "X_test_Airbags = vectorizer.transform(X_test['Airbags'].values.reshape(-1,1))\n",
    "\n",
    "print(\"After vectorizations\")\n",
    "print(X_train_Airbags.shape, y_train.shape)\n",
    "print(X_cv_Airbags.shape, y_cv.shape)\n",
    "print(X_test_Airbags.shape)\n",
    "print(\"=\"*100)"
   ]
  },
  {
   "cell_type": "code",
   "execution_count": 95,
   "metadata": {},
   "outputs": [
    {
     "name": "stdout",
     "output_type": "stream",
     "text": [
      "After vectorizations\n",
      "(14027, 1) (14027,)\n",
      "(4676, 1) (4676,)\n",
      "(8245, 1)\n",
      "====================================================================================================\n"
     ]
    }
   ],
   "source": [
    "#Normalize actual numerical features\n",
    "from sklearn.preprocessing import Normalizer\n",
    "vectorizer = Normalizer()\n",
    "# we use the fitted CountVectorizer to convert the text to vector\n",
    "X_train_Levy = vectorizer.fit_transform(X_train['Levy'].values.reshape(-1,1))\n",
    "X_cv_Levy = vectorizer.transform(X_cv['Levy'].values.reshape(-1,1))\n",
    "X_test_Levy = vectorizer.transform(X_test['Levy'].values.reshape(-1,1))\n",
    "\n",
    "print(\"After vectorizations\")\n",
    "print(X_train_Levy.shape, y_train.shape)\n",
    "print(X_cv_Levy.shape, y_cv.shape)\n",
    "print(X_test_Levy.shape)\n",
    "print(\"=\"*100)"
   ]
  },
  {
   "cell_type": "code",
   "execution_count": 99,
   "metadata": {},
   "outputs": [
    {
     "name": "stdout",
     "output_type": "stream",
     "text": [
      "After vectorizations\n",
      "(14027, 1) (14027,)\n",
      "(4676, 1) (4676,)\n",
      "(8245, 1)\n",
      "====================================================================================================\n"
     ]
    }
   ],
   "source": [
    "from sklearn.preprocessing import Normalizer\n",
    "vectorizer = Normalizer()\n",
    "# we use the fitted CountVectorizer to convert the text to vector\n",
    "X_train_Mileage = vectorizer.fit_transform(X_train['Mileage'].values.reshape(-1,1))\n",
    "X_cv_Mileage = vectorizer.transform(X_cv['Mileage'].values.reshape(-1,1))\n",
    "X_test_Mileage = vectorizer.transform(X_test['Mileage'].values.reshape(-1,1))\n",
    "\n",
    "print(\"After vectorizations\")\n",
    "print(X_train_Levy.shape, y_train.shape)\n",
    "print(X_cv_Levy.shape, y_cv.shape)\n",
    "print(X_test_Levy.shape)\n",
    "print(\"=\"*100)"
   ]
  },
  {
   "cell_type": "code",
   "execution_count": 100,
   "metadata": {},
   "outputs": [
    {
     "name": "stdout",
     "output_type": "stream",
     "text": [
      "Final Data matrix\n",
      "(14027, 245) (14027,)\n",
      "(4676, 245) (4676,)\n",
      "(8245, 245)\n",
      "====================================================================================================\n"
     ]
    }
   ],
   "source": [
    "# merge sparse matrices using scipy library: https://stackoverflow.com/a/19710648/4084039\n",
    "from scipy.sparse import hstack\n",
    "\n",
    "X_tr_final = hstack((X_train_Levy, X_train_Manufacturer,X_train_Prod_year,X_train_Category, X_train_Leather_interior,X_train_Fuel_type,X_train_Engine_volume, X_train_Mileage, X_train_Cylinders, X_train_Gear_box_type, X_train_Drive_wheels, X_train_Doors, X_train_Wheel, X_train_Color,X_train_Airbags)).tocsr()\n",
    "X_te_final = hstack((X_test_Levy, X_test_Manufacturer,X_test_Prod_year,X_test_Category, X_test_Leather_interior,X_test_Fuel_type,X_test_Engine_volume, X_test_Mileage, X_test_Cylinders, X_test_Gear_box_type, X_test_Drive_wheels, X_test_Doors, X_test_Wheel, X_test_Color,X_test_Airbags)).tocsr()\n",
    "X_cv_final = hstack((X_cv_Levy, X_cv_Manufacturer,X_cv_Prod_year,X_cv_Category, X_cv_Leather_interior,X_cv_Fuel_type,X_cv_Engine_volume, X_cv_Mileage, X_cv_Cylinders, X_cv_Gear_box_type, X_cv_Drive_wheels, X_cv_Doors, X_cv_Wheel, X_cv_Color,X_cv_Airbags)).tocsr()\n",
    "\n",
    "print(\"Final Data matrix\")\n",
    "print(X_tr_final.shape, y_train.shape)\n",
    "print(X_cv_final.shape, y_cv.shape)\n",
    "print(X_te_final.shape)\n",
    "print(\"=\"*100)"
   ]
  },
  {
   "cell_type": "markdown",
   "metadata": {},
   "source": [
    "# 5. Model Building"
   ]
  },
  {
   "cell_type": "markdown",
   "metadata": {},
   "source": [
    "### RandomForest"
   ]
  },
  {
   "cell_type": "markdown",
   "metadata": {},
   "source": [
    "- After trying several models, it is found that Random Forest gives the least error."
   ]
  },
  {
   "cell_type": "code",
   "execution_count": 101,
   "metadata": {},
   "outputs": [],
   "source": [
    "from sklearn.ensemble import RandomForestRegressor\n",
    "#simple RF regressor\n",
    "regressor=RandomForestRegressor()\n",
    "#fit the training data\n",
    "regressor.fit(X_tr_final,y_train)\n",
    "#predict values\n",
    "y_pred_train = regressor.predict(X_tr_final)\n",
    "y_pred_cv = regressor.predict(X_cv_final)\n",
    "y_pred_test = regressor.predict(X_te_final)"
   ]
  },
  {
   "cell_type": "code",
   "execution_count": 103,
   "metadata": {},
   "outputs": [
    {
     "name": "stdout",
     "output_type": "stream",
     "text": [
      "train RMSLE error= 0.8734880495664685\n",
      "cv RMSLE error= 1.1340860613513926\n"
     ]
    }
   ],
   "source": [
    "#Since we have to calculate log loss, there shuldn't be negative value present in the output.\n",
    "y_pred_train[y_pred_train<0]=0\n",
    "y_pred_test[y_pred_test<0]=0\n",
    "y_pred_cv[y_pred_cv<0]=0\n",
    "\n",
    "#Print RMSLE\n",
    "from sklearn.metrics import mean_squared_log_error\n",
    "print('train RMSLE error=',np.sqrt(mean_squared_log_error(y_train, y_pred_train)))\n",
    "print('cv RMSLE error=',np.sqrt(mean_squared_log_error(y_cv, y_pred_cv)))"
   ]
  },
  {
   "cell_type": "markdown",
   "metadata": {},
   "source": [
    "#### Overfitting/Underfitting"
   ]
  },
  {
   "cell_type": "markdown",
   "metadata": {},
   "source": [
    "Since the difference between train_error and cv_error is less or in other words since the train_error and cv_error are neither too large nor too small, we can say that our model has been perfectly fitted and working fine."
   ]
  },
  {
   "cell_type": "code",
   "execution_count": 152,
   "metadata": {},
   "outputs": [],
   "source": [
    "#Make the submission file \n",
    "sub['Price']=y_pred_test\n",
    "sub.to_csv(r'C:\\Users\\Princy\\Downloads\\MH_car_prediction_challenge\\my_submission_RF.csv', index=False)"
   ]
  }
 ],
 "metadata": {
  "kernelspec": {
   "display_name": "Python 3",
   "language": "python",
   "name": "python3"
  },
  "language_info": {
   "codemirror_mode": {
    "name": "ipython",
    "version": 3
   },
   "file_extension": ".py",
   "mimetype": "text/x-python",
   "name": "python",
   "nbconvert_exporter": "python",
   "pygments_lexer": "ipython3",
   "version": "3.6.5"
  }
 },
 "nbformat": 4,
 "nbformat_minor": 2
}
